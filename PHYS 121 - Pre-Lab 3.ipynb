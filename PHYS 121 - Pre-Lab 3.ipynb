{
 "cells": [
  {
   "cell_type": "markdown",
   "id": "1216b51f",
   "metadata": {
    "deletable": false,
    "editable": false,
    "tags": []
   },
   "source": [
    "# <div style=\"background-color:rgba(204, 229, 255, 0.5); text-align:center; vertical-align: middle; padding:40px 0; margin-top:30px\"><span style=\"color:rgba(0, 76, 153, 1);\">**PHYS 121 Pre-Lab #3**<span style=\"color:red\"> $\\to$ (7 possible marks)</span> </span></div> \n",
    "# Electric Potential & Electric Fields"
   ]
  },
  {
   "cell_type": "markdown",
   "id": "8a201c9d",
   "metadata": {
    "deletable": false,
    "editable": false,
    "tags": []
   },
   "source": [
    "***\n",
    "## Learning Objectives:\n",
    "* <b><span style=\"color:rgba(0, 153, 76, 1);\">Understand the term *field* as it is used in physics, and distinguish between scalar fields and vector fields.</span></b>\n",
    "* <b><span style=\"color:rgba(0, 153, 76, 1);\">Become familiar with different ways to represent fields in two-dimensional plots.</span></b>\n",
    "\n",
    "The term field comes up a lot in physics: you've probably heard the terms *gravitational field*, *electric field*, *force field*, and *magnetic field*.  But what do we mean when we call something a field?  Mathematically speaking, a **field** is any quantity $\\varphi(x, y, z, t)$ that has an associated value at all points $(x,y,z)$ in space and moments $t$ in time.  The type of value depends on the type of field: $\\varphi$ might be **scalar**-valued or **vector**-valued.  \n",
    "\n",
    "This definition might be unfamiliar at first, or it might seem simple but too abstract to be meaningful.  Through a series of examples and questions, this pre-lab will serve as a gentle introduction to scalar- and vector-valued fields and their representations.  We'll conclude by revisiting the formal definition.\n"
   ]
  },
  {
   "cell_type": "markdown",
   "id": "faffad4e",
   "metadata": {
    "deletable": false,
    "editable": false,
    "tags": []
   },
   "source": [
    "***\n",
    "## Autograding:\n",
    "The PHYS 121 Pre-lab assignments and Labs will make use of some autograding.  To make the autograding work, the two cells below needs to be executed.  The first one installs the required packages and the second imports required packages/modules.  If 'PHYS121.Installer()' reports that some functions have been installed, the user should restart the \"kernel\" and then exectute the PHYS121.Installer() cell a second time.  The second time the installer function is run, it should report that **\"All packages already installed. Please proceed\"**.\n",
    "\n",
    "If necessary, the kernel can be restarted by selecting **Kernel** $\\to$ **Restart Kernel** from the menu options at to the top of the page.  Here is a <a href = \"https://cmps-people.ok.ubc.ca/jbobowsk/PHYS_121_Lab/images/restartKernel.gif\">GIF</a> showing how to restart the kernel.\n",
    "\n",
    "The 'PHYS121.Installer()' command requires the file 'PHYS121.py', which you should see included in the list of files along the left-hand side of the screen."
   ]
  },
  {
   "cell_type": "code",
   "execution_count": null,
   "id": "f6ae2df5",
   "metadata": {
    "deletable": false,
    "editable": false,
    "tags": []
   },
   "outputs": [],
   "source": [
    "# Import PHYS121.py and then run the installer function.\n",
    "import PHYS121\n",
    "PHYS121.Installer()"
   ]
  },
  {
   "cell_type": "code",
   "execution_count": null,
   "id": "41933283",
   "metadata": {
    "deletable": false,
    "editable": false,
    "tags": []
   },
   "outputs": [],
   "source": [
    "# Initialize Otter\n",
    "import otter\n",
    "grader = otter.Notebook(\"PHYS 121 - Pre-Lab 3.ipynb\")"
   ]
  },
  {
   "cell_type": "markdown",
   "id": "25d39e8f",
   "metadata": {
    "deletable": false,
    "editable": false,
    "tags": []
   },
   "source": [
    "***\n",
    "## Import Modules:\n",
    "Execute the cell below to import a number of useful pre-built Python modules that will be used in the PHYS 121 pre-labs and labs."
   ]
  },
  {
   "cell_type": "code",
   "execution_count": null,
   "id": "6335bbfa",
   "metadata": {},
   "outputs": [],
   "source": [
    "import numpy as np\n",
    "import matplotlib.pyplot as plt\n",
    "from matplotlib.pyplot import cm # used to generate a sequence of colours for plotting\n",
    "from scipy.optimize import curve_fit\n",
    "from IPython.display import HTML as html_print\n",
    "from IPython.display import display, Markdown, Latex"
   ]
  },
  {
   "cell_type": "markdown",
   "id": "126f71a5",
   "metadata": {
    "deletable": false,
    "editable": false,
    "tags": []
   },
   "source": [
    "## Scalar Fields\n",
    "\n",
    "Suppose you were to walk over rough terrain in a perfectly straight line, measuring your altitude $h$ above sea level at regular intervals.  If you were to denote distance from the starting point by the variable $x$, you could define a function $h(x)$.  Plotting this function produces something that looks like a cross-section of the terrain:\n",
    "\n",
    "<p>\n",
    "<center>\n",
    "<img src=\"https://cmps-people.ok.ubc.ca/jbobowsk/PHYS_121_Lab/Lab3/images/y0_hvsx_fill.png\" alt=\"image info\" style=\"width: 45%; height: auto;\" /><br>\n",
    "<b>Fig. 1: A plot of the height above sea level as a function of $x$.</b></center>\n",
    "</p>\n",
    "\n",
    "But what if we wanted to plot the altitude over a *patch* of land?  We might define a second variable $y$, draw an imaginary \"grid\" over the patch of land, and measure the altitude at different gridpoints.  By doing so, we define a function $h(x,y)$.  The more closely spaced our measurements, the more detailed our map.  In Fig. 1 we've labeled the vertical axis of our graph as $h(x,0)$ in anticipation of this.\n",
    "\n",
    "But how should we represent our function $h(x,y)$?  Well... we could construct a 3-dimensional physical model of the land, maybe.  But what if we wanted soemthing that we could print out on a map? Consider the topographic map shown in Fig. 2.\n",
    "\n",
    "<p>\n",
    "<center>\n",
    "<img src=\"https://cmps-people.ok.ubc.ca/jbobowsk/PHYS_121_Lab/Lab3/images/cp.png\" alt=\"image info\" style=\"width: 95%; height: auto;\" /><br>\n",
    "<b>Fig. 2: Topographic map of a rock quarry showing the elevation above sea level as a function of $(x, y)$ coordinates. The difference in height between adjacent contours is $2\\rm\\ m$, and every second contour line is labeled with its height above sea level in meters. </b></center>\n",
    "</p>\n",
    "\n",
    "This type of plot is likely already familiar to you.  It's constructed by drawing lines of constant altitude $h$ &ndash; these lines are called **contours**, and the plot shown in Fig. 2 is called a **contour plot**.  The plot above specifies the $x$ position with letters, which is something we wouldn't be inclined to do, but that's okay - if you follow with your finger, you can read from the map above that $h(T, 6) \\approx 24 \\rm\\ m$ above sea level.\n",
    "\n",
    "### <span style=\"color:purple\">The 'grader.check(...)' statements in this Pre-Lab only check that answers have been entered in the correct format.  They do **NOT** check that you've entered the correct answer.</span> "
   ]
  },
  {
   "cell_type": "markdown",
   "id": "add3f3bd",
   "metadata": {
    "deletable": false,
    "editable": false,
    "tags": []
   },
   "source": [
    "***\n",
    "**<span style=\"color:blue\">Question 1</span>**  **<span style=\"color:red\">(1 mark)</span>**\n",
    "\n",
    "Consider the orange arrow in Fig. 2.  If you were to walk along that arrow, would you be\n",
    "\n",
    "(a) Ascending <br>\n",
    "(b) Descending <br>\n",
    "(c) Neither"
   ]
  },
  {
   "cell_type": "markdown",
   "id": "111902f9",
   "metadata": {
    "deletable": false,
    "editable": false,
    "tags": []
   },
   "source": [
    "***\n",
    "**<span style=\"color:blue\">Answer 1:</span>**\n",
    "\n",
    "Replace the ... in the cell below with your answer.  Your answer should be a single character (a, b, or c) between single or double quotes.  \n",
    "*** Please do not change anything to the left of the equals sign. ***"
   ]
  },
  {
   "cell_type": "code",
   "execution_count": null,
   "id": "79665020",
   "metadata": {
    "tags": []
   },
   "outputs": [],
   "source": [
    "a1 = ..."
   ]
  },
  {
   "cell_type": "code",
   "execution_count": null,
   "id": "e267f15f",
   "metadata": {
    "deletable": false,
    "editable": false
   },
   "outputs": [],
   "source": [
    "grader.check(\"Q1\")"
   ]
  },
  {
   "cell_type": "markdown",
   "id": "6aad1e09",
   "metadata": {
    "deletable": false,
    "editable": false,
    "tags": []
   },
   "source": [
    "***\n",
    "**<span style=\"color:blue\">Question 2</span>**  **<span style=\"color:red\">(1 mark)</span>**\n",
    "\n",
    "Consider the blue arrow in Fig. 2.  If you were to walk along that arrow, would you be\n",
    "\n",
    "(a) Ascending <br>\n",
    "(b) Descending <br>\n",
    "(c) Neither"
   ]
  },
  {
   "cell_type": "markdown",
   "id": "c9323755",
   "metadata": {
    "deletable": false,
    "editable": false,
    "tags": []
   },
   "source": [
    "***\n",
    "**<span style=\"color:blue\">Answer 2:</span>**\n",
    "\n",
    "Replace the ... in the cell below with your answer.  Your answer should be a single character (a, b, or c) between single or double quotes.  \n",
    "*** Please do not change anything to the left of the equals sign. ***"
   ]
  },
  {
   "cell_type": "code",
   "execution_count": null,
   "id": "0203ced6",
   "metadata": {
    "tags": []
   },
   "outputs": [],
   "source": [
    "a2 = ..."
   ]
  },
  {
   "cell_type": "code",
   "execution_count": null,
   "id": "05a7d7fd",
   "metadata": {
    "deletable": false,
    "editable": false
   },
   "outputs": [],
   "source": [
    "grader.check(\"Q2\")"
   ]
  },
  {
   "cell_type": "markdown",
   "id": "98c48f1b",
   "metadata": {
    "deletable": false,
    "editable": false,
    "tags": []
   },
   "source": [
    "***\n",
    "**<span style=\"color:blue\">Question 3</span>** **<span style=\"color:red\">(1 mark)</span>** \n",
    "\n",
    "Consider the red arrow in Fig. 2.  If you were to walk along that arrow, would you be\n",
    "\n",
    "(a) Ascending <br>\n",
    "(b) Descending <br>\n",
    "(c) Neither"
   ]
  },
  {
   "cell_type": "markdown",
   "id": "35b3e522",
   "metadata": {
    "deletable": false,
    "editable": false,
    "tags": []
   },
   "source": [
    "***\n",
    "**<span style=\"color:blue\">Answer 3:</span>**\n",
    "\n",
    "Replace the ... in the cell below with your answer.  Your answer should be a single character (a, b, or c) between single or double quotes.  \n",
    "*** Please do not change anything to the left of the equals sign. ***"
   ]
  },
  {
   "cell_type": "code",
   "execution_count": null,
   "id": "f2164a59",
   "metadata": {
    "tags": []
   },
   "outputs": [],
   "source": [
    "a3 = ..."
   ]
  },
  {
   "cell_type": "code",
   "execution_count": null,
   "id": "6d764e66",
   "metadata": {
    "deletable": false,
    "editable": false
   },
   "outputs": [],
   "source": [
    "grader.check(\"Q3\")"
   ]
  },
  {
   "cell_type": "markdown",
   "id": "32f4f720",
   "metadata": {
    "deletable": false,
    "editable": false,
    "tags": []
   },
   "source": [
    "***\n",
    "**<span style=\"color:blue\">Question 4</span>**  **<span style=\"color:red\">(1 mark)</span>**\n",
    "\n",
    "Along which arrow in Fig. 2 is the terrain the steepest?\n",
    "\n",
    "(a) Orange arrow <br>\n",
    "(b) Blue arrow <br>\n",
    "(c) Red arrow\n"
   ]
  },
  {
   "cell_type": "markdown",
   "id": "9dbbb6da",
   "metadata": {
    "deletable": false,
    "editable": false,
    "tags": []
   },
   "source": [
    "***\n",
    "**<span style=\"color:blue\">Answer 4:</span>**\n",
    "\n",
    "Replace the ... in the cell below with your answer.  Your answer should be a single character (a, b, or c) between single or double quotes.  \n",
    "*** Please do not change anything to the left of the equals sign. ***"
   ]
  },
  {
   "cell_type": "code",
   "execution_count": null,
   "id": "aee33fdf",
   "metadata": {
    "tags": []
   },
   "outputs": [],
   "source": [
    "a4 = ..."
   ]
  },
  {
   "cell_type": "code",
   "execution_count": null,
   "id": "ed8ed56e",
   "metadata": {
    "deletable": false,
    "editable": false
   },
   "outputs": [],
   "source": [
    "grader.check(\"Q4\")"
   ]
  },
  {
   "cell_type": "markdown",
   "id": "20c3ce3f",
   "metadata": {
    "deletable": false,
    "editable": false,
    "tags": []
   },
   "source": [
    "<br>\n",
    "\n",
    "***\n",
    "\n",
    "\n",
    "Alternatively, we could encode this data using a colour scale.  Figure 3 below encodes the same information as Fig. 2 by representing low altitudes with the colour blue and high altitudes with the colour red.  This is sometimes referred to as a **false-colour plot**.\n",
    "\n",
    "<p>\n",
    "<center>\n",
    "<img src=\"https://cmps-people.ok.ubc.ca/jbobowsk/PHYS_121_Lab/Lab3/images/topo_fill.png\" alt=\"image info\" style=\"width: 85%; height: auto;\" /><br>\n",
    "<b>Fig. 3: A false colour plot of the height above sea level as a function of $x$ and $y$.</b></center>\n",
    "</p>\n",
    "\n",
    "Representative contour lines are often superimposed on false colour plots as guides to the eye.  Other than the contours of constant height, Fig. 4 is identical to Fig. 5.\n",
    "\n",
    "<p>\n",
    "<center>\n",
    "<img src=\"https://cmps-people.ok.ubc.ca/jbobowsk/PHYS_121_Lab/Lab3/images/topoContour_fill.png\" alt=\"image info\" style=\"width: 85%; height: auto;\" /><br>\n",
    "<b>Fig. 4: A false colour plot of the height above sea level as a function of $x$ and $y$ with some representative contour lines included.</b></center>\n",
    "</p>\n",
    "\n",
    "Elevation isn't the only thing that can be represented by contour plots and false-colour plots - have a look at the infrared image in Fig. 5.  The colour scale represents temperature in degrees Fahrenheit ($45.8^\\circ\\rm F = 7.7^\\circ\\rm C$ and $78.2^\\circ\\rm F = 25.7^\\circ\\rm C$).     \n",
    "<p>\n",
    "<center>\n",
    "<img src=\"https://cmps-people.ok.ubc.ca/jbobowsk/PHYS_121_Lab/Lab3/images/deer.jpg\" alt=\"image info\" style=\"width: 40%; height: auto;\" /><br>\n",
    "<b>Fig. 5: An infrared image of a deer in the forest.  Image obtained from <a href = \"https://commons.wikimedia.org/wiki/File:A_deer_in_the_woods._It_was_pitch_black,_but_this_camera_does_not_use_ANY_visible_light._FLIR_infrared._%286968297826%29.jpg\">Wikimedia Commons</a>.</b></center>\n",
    "</p>\n",
    "\n",
    "All of the plots that we've consider so far are used to represent **scalar fields**.  Recall that a **scalar** is a quantity that has a numerical value, but no associated direction.  Simply put - a scalar is just a number.  Height above sea level in a rock quarry and temperature in the forest are both examples of scalar fields.  "
   ]
  },
  {
   "cell_type": "markdown",
   "id": "8ca21cdf",
   "metadata": {
    "deletable": false,
    "editable": false,
    "tags": []
   },
   "source": [
    "***\n",
    "## Vector Fields\n",
    "\n",
    "A **vector** is a quantity that has both *magnitude* and *direction*.  Vectors are typically represented by arrows whose lengths correspond to their magnitude.  A **vector field** is a quantity that has a vector value for *every* point in space and time.  Think about the air flowing around you right now, for instance.  At each point, the air has some speed and some direction.  \n",
    "\n",
    "When representing vector fields pictorially, we obviously can't draw *every* vector, as there are infinitely many of them.  Usually, we'll draw representative arrows throughout a region of space, as in Fig. 6.  Figure 6(a) represents a cross-section of the gravitational field around the Earth-moon system and (b) represents the velocity of the water at the surface of a stream.  \n",
    "<br>\n",
    "<p>\n",
    "<center>\n",
    "<img src=\"https://cmps-people.ok.ubc.ca/jbobowsk/PHYS_121_Lab/Lab3/images/vectorField.png\" alt=\"image info\" style=\"width: 70%; height: auto;\" /><br>\n",
    "<b>Fig. 6: Examples of vector fields. (a) the gravitational field in the space around the Earth and moon. (b) The surface water velocity in a river containing a large rock.  Images obtained from <a href = \"https://math.libretexts.org/Bookshelves/Calculus/Book%3A_Calculus_%28OpenStax%29/16%3A_Vector_Calculus/16.1%3A_Vector_Fields\">LibreTexts</a>.</b></center>\n",
    "</p>\n",
    "\n",
    "Notice how colour has been used in both plots to emphasize the magnitude of the vectors.  This due to the fact that representing a vector's magnitude by length alone can make a plot hard to read.  But the magnitude of a vector is just a number - that is, it's a scalar quantity!  In Fig. 6(b), a false colour plot represents the speed of the water at different points in space, with red representing high speeds and blue representing low speeds.  You might say that the velocity field is a vector field, but the \"speed field\" is a scalar field."
   ]
  },
  {
   "cell_type": "markdown",
   "id": "64fd2944",
   "metadata": {
    "deletable": false,
    "editable": false,
    "tags": []
   },
   "source": [
    "***\n",
    "**<span style=\"color:blue\">Question 5</span>**  **<span style=\"color:red\">(1 mark)</span>**\n",
    "\n",
    "Which of the following is an example of a vector field?\n",
    "\n",
    "(a) The temperature in your room <br>\n",
    "(b) The flow of heat from a radiator in your room <br>\n",
    "(c) Neither"
   ]
  },
  {
   "cell_type": "markdown",
   "id": "f34e7b02",
   "metadata": {
    "deletable": false,
    "editable": false,
    "tags": []
   },
   "source": [
    "***\n",
    "**<span style=\"color:blue\">Answer 5:</span>**\n",
    "\n",
    "Replace the ... in the cell below with your answer.  Your answer should be a single character (a, b, or c) between single or double quotes.  \n",
    "*** Please do not change anything to the left of the equals sign. ***"
   ]
  },
  {
   "cell_type": "code",
   "execution_count": null,
   "id": "c15f88d6",
   "metadata": {
    "tags": []
   },
   "outputs": [],
   "source": [
    "a5 = ..."
   ]
  },
  {
   "cell_type": "code",
   "execution_count": null,
   "id": "ecf8c86a",
   "metadata": {
    "deletable": false,
    "editable": false
   },
   "outputs": [],
   "source": [
    "grader.check(\"Q5\")"
   ]
  },
  {
   "cell_type": "markdown",
   "id": "36135853",
   "metadata": {
    "deletable": false,
    "editable": false,
    "tags": []
   },
   "source": [
    "***\n",
    "**<span style=\"color:blue\">Question 6</span>**  **<span style=\"color:red\">(1 mark)</span>**\n",
    "\n",
    "Which of the following is an example of a scalar field?\n",
    "\n",
    "(a) The motion of ammonia ice through the atmosphere of Jupiter <br>\n",
    "(b) The concentration of ammonia throughout the atmosphere of Jupiter <br>\n",
    "(c) Neither\n"
   ]
  },
  {
   "cell_type": "markdown",
   "id": "fb9a4422",
   "metadata": {
    "deletable": false,
    "editable": false,
    "tags": []
   },
   "source": [
    "***\n",
    "**<span style=\"color:blue\">Answer 6:</span>**\n",
    "\n",
    "Replace the ... in the cell below with your answer.  Your answer should be a single character (a, b, or c) between single or double quotes.  \n",
    "*** Please do not change anything to the left of the equals sign. ***"
   ]
  },
  {
   "cell_type": "code",
   "execution_count": null,
   "id": "48565b3b",
   "metadata": {
    "tags": []
   },
   "outputs": [],
   "source": [
    "a6 = ..."
   ]
  },
  {
   "cell_type": "code",
   "execution_count": null,
   "id": "16f2e93c",
   "metadata": {
    "deletable": false,
    "editable": false
   },
   "outputs": [],
   "source": [
    "grader.check(\"Q6\")"
   ]
  },
  {
   "cell_type": "markdown",
   "id": "0d07388e",
   "metadata": {
    "deletable": false,
    "editable": false,
    "tags": []
   },
   "source": [
    "<br>\n",
    "\n",
    "***\n",
    "## Calculating a Vector Field from a Scalar Field\n",
    "\n",
    "These last few examples emphasize the idea that vector fields often have associated scalar fields, and vice versa.  In many cases it is possible to calculate a vector field from the derivatives of a scalar field.  For example, for a topographic map, $dh/dx$ describes the rate of change of the height in the $x$ direction and, likewise, $dh/dy$ describes the rate of change of the height in the $y$ direction.  In other words, $dh/dx$ and $dh/dy$ characterize the steepness of the terrain.  The steepness, on its own, would represent a scalar field.  However, if we construct the vector\n",
    "$$ \\mathbf{s} = \\frac{dh}{dx}\\,\\hat\\imath + \\frac{dh}{dy}\\,\\hat\\jmath $$\n",
    "it tells us the direction of steepest ascent.  Since it has a direction, quantity $\\mathbf{s}$, constructed from the spatial derivatives of the height $h$, is an example of a vector field. \n",
    "\n",
    "As an example, from the topographic map of Fig. 4, we can generate a vector field that characterizes the steepest ascent at each point:\n",
    "\n",
    "<p>\n",
    "<center>\n",
    "<img src=\"https://cmps-people.ok.ubc.ca/jbobowsk/PHYS_121_Lab/Lab3/images/topoVector_fill.png\" alt=\"image info\" style=\"width: 85%; height: auto;\" /><br>\n",
    "<b>Fig. 7: A false colour plot of the height above sea level as a function of $x$ and $y$ with some representative contour lines and the steepness vector field.</b></center>\n",
    "</p>\n",
    "\n",
    "We can do this by calculating the quantities $dh/dx$ and $dh/dy$ which tells us how quickly $h$ changes in the $x$ and $y$ directions, respectively.  If, at a particular point in space, $dh/dx$ is large and $dh/hy$ is small, then the hill is steep in the $x$ direction and shallow in the $y$-direction.  Notice that $\\mathbf{s}$ is always perpendicular to the contour lines of constant height/elevation.  \n",
    "\n",
    "An important example of vector fields in physics are **conservative** force fields.  These are constructed from the spatial derivatives of a potential energy $U$:\n",
    "<br>\n",
    "\n",
    "\\begin{align}\n",
    "\\mathbf{F}(x,y,z) = -\\left(\\frac{dU}{dx}\\,\\hat\\imath + \\frac{dU}{dy}\\,\\hat\\jmath + \\frac{dU}{dy}\\,\\hat{k}\\right)\n",
    "\\end{align}\n"
   ]
  },
  {
   "cell_type": "markdown",
   "id": "ab301089",
   "metadata": {
    "deletable": false,
    "editable": false,
    "tags": []
   },
   "source": [
    "***\n",
    "**<span style=\"color:blue\">Question 7:</span>**  **<span style=\"color:red\">(1 mark)</span>**\n",
    "\n",
    "Notice the negative sign in the equation for $\\mathbf{F}$. Considering our interpretation of the field $\\mathbf{s} = \\dfrac{dh}{dx}\\,\\hat\\imath + \\dfrac{dh}{dy}\\,\\hat\\jmath$, which of the following statements is true?\n",
    "\n",
    "(a) $\\mathbf{F}$ points in the direction of fastest *increase* of the potential energy $U$ <br>\n",
    "(b) $\\mathbf{F}$ points in the direction of fastest *decrease* of the potential energy $U$ <br>\n",
    "(c) Neither"
   ]
  },
  {
   "cell_type": "markdown",
   "id": "949f5632",
   "metadata": {
    "deletable": false,
    "editable": false,
    "tags": []
   },
   "source": [
    "***\n",
    "**<span style=\"color:blue\">Answer 7:</span>**\n",
    "\n",
    "Replace the ... in the cell below with your answer.  Your answer should be a single character (a, b, or c) between single or double quotes.  \n",
    "*** Please do not change anything to the left of the equals sign. ***"
   ]
  },
  {
   "cell_type": "code",
   "execution_count": null,
   "id": "65c2c0c8",
   "metadata": {
    "tags": []
   },
   "outputs": [],
   "source": [
    "a7 = ..."
   ]
  },
  {
   "cell_type": "code",
   "execution_count": null,
   "id": "846ddda8",
   "metadata": {
    "deletable": false,
    "editable": false
   },
   "outputs": [],
   "source": [
    "grader.check(\"Q7\")"
   ]
  },
  {
   "cell_type": "markdown",
   "id": "fdcdf5ac",
   "metadata": {
    "deletable": false,
    "editable": false,
    "tags": []
   },
   "source": [
    "***\n",
    "\n",
    "Similarly, electric fields $\\mathbf{E}$ can be calculated from the dertivatives of the electric potential $V$. In this week's lab, you will be measuring a two-dimensional electric potential $V(x,y)$ -- a scalar field.  From the data you collect, you will find the electric field $\\mathbf{E}(x,y)$ via the equation\n",
    "<br>\n",
    "\n",
    "\\begin{align}\n",
    "\\mathbf{E}(x,y) = -\\left( \\frac{dV}{dx}\\,\\hat\\imath + \\frac{dV}{dy}\\,\\hat\\jmath \\right)\n",
    "\\end{align}"
   ]
  },
  {
   "cell_type": "markdown",
   "id": "aab4143c",
   "metadata": {
    "deletable": false,
    "editable": false,
    "tags": []
   },
   "source": [
    "***\n",
    "\n",
    "Recall our formal definition now: a **field** is *any* quantity $\\varphi(x, y, z, t)$ that has a value associated with all points $(x,y,z)$ in space and moments $t$ in time.  If the field is time-invariant, or if we're just looking at a \"snapshot\" of the field, we might consider only its values in space and write $\\varphi(x, y, z)$.  Moreover, if we're only considering values over a two-dimensional surface, we might describe our field by $\\varphi(x, y)$.  \n",
    "\n",
    "The abstraction of mathematics equips us with a concrete set of tools we can use for analysis and interpretation, regardless of what type of field we're dealing with.  Learning to work with these mathematical ideas takes some practice, but even if you find yourself lost in the abstraction you should never lose sight of the *physics* behind the mathematics.  Fields are a fundamentally physically motivated concept which find *many* uses in physics and beyond."
   ]
  },
  {
   "cell_type": "markdown",
   "id": "a396fc48",
   "metadata": {
    "deletable": false,
    "editable": false,
    "tags": []
   },
   "source": [
    "# <div style=\"background-color:rgba(255, 204, 255, 0.5); text-align:center; vertical-align: middle; padding:40px 0; margin-top:30px\"><span style=\"color:rgba(102, 0, 204, 1);\">Feedback and Submission</span></div>"
   ]
  },
  {
   "cell_type": "markdown",
   "id": "175ceed9",
   "metadata": {
    "deletable": false,
    "editable": false,
    "tags": []
   },
   "source": [
    "<!-- BEGIN QUESTION -->\n",
    "\n",
    "**<span style=\"color:blue\">Feedback Question:</span>**  \n",
    "\n",
    "We welcome your feedback on the PHYS 121 pre-labs!  Please feel free to include any comments you have about this pre-lab in the cell below.  Your comments will be taken into consideration when revising/improving the PHYS 121 labs and pre-labs.  You can suggest improvements, point out anything that was unclear, comment on the strengths and weaknesses of the pre-lab, ...\n",
    "\n",
    "This question is optional and will have no impact on your pre-lab or lab grade."
   ]
  },
  {
   "cell_type": "markdown",
   "id": "93b40298",
   "metadata": {
    "deletable": false,
    "editable": false,
    "tags": []
   },
   "source": [
    "***\n",
    "**<span style=\"color:blue\">Feedback Answer:</span>**\n",
    "\n",
    "[//]: # (Please do not delete this comment or anything above it.  Anything below this comment can be deleted.)  \n",
    "\n",
    "Double click this cell and enter your text here.  When done, hit 'Shift' + 'Enter' to execute the cell.  You may delete this text when entering your answer. "
   ]
  },
  {
   "cell_type": "markdown",
   "id": "356c9141",
   "metadata": {
    "deletable": false,
    "editable": false,
    "tags": []
   },
   "source": [
    "<!-- END QUESTION -->\n",
    "\n",
    "---\n",
    "\n",
    "To double-check your work, the cell below will rerun all of the autograder tests."
   ]
  },
  {
   "cell_type": "code",
   "execution_count": null,
   "id": "46e7d3c2",
   "metadata": {
    "deletable": false,
    "editable": false,
    "tags": []
   },
   "outputs": [],
   "source": [
    "grader.check_all()"
   ]
  },
  {
   "cell_type": "markdown",
   "id": "0eb9256e",
   "metadata": {
    "deletable": false,
    "editable": false,
    "tags": []
   },
   "source": [
    "***\n",
    "\n",
    "## Submission\n",
    "\n",
    "Make sure you have run all cells in your notebook in order before running the cell below, so that all images/graphs appear in the output. The cell below will generate a zip file for you to submit. **Please save before exporting!**\n",
    "\n",
    "Once you've completed this notebook:\n",
    "- Save your work.\n",
    "- Run 'grader.export()' to generate a .zip file containing all of the materials that you will submit.\n",
    "- Download the generated .zip file.\n",
    "- Upload the .zip file to the PHYS 121 Lab Canvas gradebook.\n",
    "\n",
    "Here is a <a href = \"https://cmps-people.ok.ubc.ca/jbobowsk/phys231/Python/images/Submission.gif\">GIF</a> showing how these steps are completed.  Once your completed notebook has been uploaded to the Canvas gradebook, you're done!"
   ]
  },
  {
   "cell_type": "code",
   "execution_count": null,
   "id": "ad79b69a",
   "metadata": {
    "deletable": false,
    "editable": false,
    "tags": []
   },
   "outputs": [],
   "source": [
    "# Save your notebook first, then run this cell (place your cursor in the cell and then hit Shift + Enter) to export \n",
    "# your submission.  Uploaded the .zip file that is generated to the gradebook of the Canvas shell for the PHYS 121 lab.\n",
    "grader.export()"
   ]
  },
  {
   "cell_type": "markdown",
   "id": "c6122fe3",
   "metadata": {},
   "source": [
    "***\n",
    "Last update: January 31, 2023"
   ]
  }
 ],
 "metadata": {
  "kernelspec": {
   "display_name": "Python 3 (ipykernel)",
   "language": "python",
   "name": "python3"
  },
  "language_info": {
   "codemirror_mode": {
    "name": "ipython",
    "version": 3
   },
   "file_extension": ".py",
   "mimetype": "text/x-python",
   "name": "python",
   "nbconvert_exporter": "python",
   "pygments_lexer": "ipython3",
   "version": "3.10.6"
  },
  "otter": {
   "OK_FORMAT": true,
   "tests": {
    "Q1": {
     "name": "Q1",
     "points": null,
     "suites": [
      {
       "cases": [
        {
         "code": ">>> a1.lower() in [\"a\", \"b\", \"c\"]\nTrue",
         "failure_message": "Your answer must be a string of one of 'a', 'b', or 'c'.",
         "hidden": false,
         "locked": false,
         "points": 0
        }
       ],
       "scored": true,
       "setup": "",
       "teardown": "",
       "type": "doctest"
      }
     ]
    },
    "Q2": {
     "name": "Q2",
     "points": null,
     "suites": [
      {
       "cases": [
        {
         "code": ">>> a2.lower() in [\"a\", \"b\", \"c\"]\nTrue",
         "failure_message": "Your answer must be a string of one of 'a', 'b', or 'c'.",
         "hidden": false,
         "locked": false,
         "points": 0
        }
       ],
       "scored": true,
       "setup": "",
       "teardown": "",
       "type": "doctest"
      }
     ]
    },
    "Q3": {
     "name": "Q3",
     "points": null,
     "suites": [
      {
       "cases": [
        {
         "code": ">>> a3.lower() in [\"a\", \"b\", \"c\"]\nTrue",
         "failure_message": "Your answer must be a string of one of 'a', 'b', or 'c'.",
         "hidden": false,
         "locked": false,
         "points": 0
        }
       ],
       "scored": true,
       "setup": "",
       "teardown": "",
       "type": "doctest"
      }
     ]
    },
    "Q4": {
     "name": "Q4",
     "points": null,
     "suites": [
      {
       "cases": [
        {
         "code": ">>> a4.lower() in [\"a\", \"b\", \"c\"]\nTrue",
         "failure_message": "Your answer must be a string of one of 'a', 'b', or 'c'.",
         "hidden": false,
         "locked": false,
         "points": 0
        }
       ],
       "scored": true,
       "setup": "",
       "teardown": "",
       "type": "doctest"
      }
     ]
    },
    "Q5": {
     "name": "Q5",
     "points": null,
     "suites": [
      {
       "cases": [
        {
         "code": ">>> a5.lower() in [\"a\", \"b\", \"c\"]\nTrue",
         "failure_message": "Your answer must be a string of one of 'a', 'b', or 'c'.",
         "hidden": false,
         "locked": false,
         "points": 0
        }
       ],
       "scored": true,
       "setup": "",
       "teardown": "",
       "type": "doctest"
      }
     ]
    },
    "Q6": {
     "name": "Q6",
     "points": null,
     "suites": [
      {
       "cases": [
        {
         "code": ">>> a6.lower() in [\"a\", \"b\", \"c\"]\nTrue",
         "failure_message": "Your answer must be a string of one of 'a', 'b', or 'c'.",
         "hidden": false,
         "locked": false,
         "points": 0
        }
       ],
       "scored": true,
       "setup": "",
       "teardown": "",
       "type": "doctest"
      }
     ]
    },
    "Q7": {
     "name": "Q7",
     "points": null,
     "suites": [
      {
       "cases": [
        {
         "code": ">>> a7.lower() in [\"a\", \"b\", \"c\"]\nTrue",
         "failure_message": "Your answer must be a string of one of 'a', 'b', or 'c'.",
         "hidden": false,
         "locked": false,
         "points": 0
        }
       ],
       "scored": true,
       "setup": "",
       "teardown": "",
       "type": "doctest"
      }
     ]
    }
   }
  },
  "vscode": {
   "interpreter": {
    "hash": "b870ad910a049d8ae52495743c7bc32c2e217ef524f139ca97c6947f4622129b"
   }
  }
 },
 "nbformat": 4,
 "nbformat_minor": 5
}
