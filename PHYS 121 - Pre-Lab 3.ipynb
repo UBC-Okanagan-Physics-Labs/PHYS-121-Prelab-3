{
 "cells": [
  {
   "attachments": {},
   "cell_type": "markdown",
   "id": "d28fb98a",
   "metadata": {},
   "source": [
    "# <div style=\"background-color:rgba(204, 229, 255, 0.5); text-align:center; vertical-align: middle; padding:40px 0; margin-top:30px\"><span style=\"color:rgba(0, 76, 153, 1);\">**PHYS 121 Pre-Lab #3**<span style=\"color:red\"> $\\to$ (7 possible marks)</span> </span></div> \n",
    "# Electric Potential & Electric Fields"
   ]
  },
  {
   "attachments": {},
   "cell_type": "markdown",
   "id": "c11f89d7",
   "metadata": {},
   "source": [
    "***\n",
    "## Learning Objectives:\n",
    "* <b><span style=\"color:rgba(0, 153, 76, 1);\">Understand the term *field* as it is used in physics, and distinguish between scalar fields and vector fields.</span></b>\n",
    "* <b><span style=\"color:rgba(0, 153, 76, 1);\">Become familiar with different ways to represent fields in two-dimensional plots.</span></b>\n",
    "\n",
    "The term field comes up a lot in physics: you've probably heard the terms *gravitational field*, *electric field*, *force field*, and *magnetic field*.  But what do we mean when we call something a field?  Mathematically speaking, a **field** is any quantity $\\varphi(x, y, z, t)$ that has a value associated with all points $(x,y,z)$ in space and moments $t$ in time.  The type of value depends on the type of field: $\\varphi$ might be **scalar**-valued or **vector**-valued.  \n",
    "\n",
    "This definition might be unfamiliar at first, or it might seem simple but too abstract to be meaningful.  Through a series of examples and questions, this pre-lab will serve as a gentle introduction to scalar- and vector-valued fields and their representations.  We'll conclude by revisiting the formal definition.\n"
   ]
  },
  {
   "attachments": {},
   "cell_type": "markdown",
   "id": "be5ce0d5",
   "metadata": {},
   "source": [
    "***\n",
    "## Autograding:\n",
    "The PHYS 121 Pre-lab assignments and Labs will make use of some autograding.  To make the autograding work, the two cells below needs to be executed.  The first one installs the required packages and the second imports required packages/modules.  If 'PHYS121.Installer()' reports that some functions have been installed, the user should restart the \"kernel\" and then exectute the PHYS121.Installer() cell a second time.  The second time the installer function is run, it should report that **\"All packages already installed. Please proceed\"**.\n",
    "\n",
    "If necessary, the kernel can be restarted by selecting **Kernel** $\\to$ **Restart Kernel** from the menu options at to the top of the page.  Here is a <a href = \"https://cmps-people.ok.ubc.ca/jbobowsk/PHYS_121_Lab/images/restartKernel.gif\">GIF</a> showing how to restart the kernel.\n",
    "\n",
    "The 'PHYS121.Installer()' command requires the file 'PHYS121.py', which you should see included in the list of files along the left-hand side of the screen."
   ]
  },
  {
   "cell_type": "code",
   "execution_count": null,
   "id": "012b6f8e",
   "metadata": {},
   "outputs": [],
   "source": [
    "# Import PHYS121.py and then run the installer function.\n",
    "import PHYS121\n",
    "PHYS121.Installer()"
   ]
  },
  {
   "cell_type": "code",
   "execution_count": null,
   "id": "5d6c80eb",
   "metadata": {},
   "outputs": [],
   "source": [
    "# Initialize Otter\n",
    "import otter\n",
    "grader = otter.Notebook(\"PHYS 121 - Pre-Lab 1.ipynb\")"
   ]
  },
  {
   "attachments": {},
   "cell_type": "markdown",
   "id": "9fdaa33d",
   "metadata": {},
   "source": [
    "***\n",
    "## Import Modules:\n",
    "Execute the cell below to import a number of useful pre-built Python modules that will be used in the PHYS 121 pre-labs and labs."
   ]
  },
  {
   "cell_type": "code",
   "execution_count": null,
   "id": "9286fb12",
   "metadata": {},
   "outputs": [],
   "source": [
    "import numpy as np\n",
    "import matplotlib.pyplot as plt\n",
    "from matplotlib.pyplot import cm # used to generate a sequence of colours for plotting\n",
    "from scipy.optimize import curve_fit\n",
    "from IPython.display import HTML as html_print\n",
    "from IPython.display import display, Markdown, Latex"
   ]
  },
  {
   "cell_type": "markdown",
   "id": "79eedffe",
   "metadata": {},
   "source": [
    "## Scalar Fields\n",
    "\n",
    "Suppose you were to walk over rough terrain in a perfectly straight line, measuring your altitude $h$ above sea level at regular intervals.  If you were to denote distance from the starting point by the variable $x$, you could define a function $h(x)$.  Plotting this function produces something that looks like a cross-section of the terrain:\n",
    "\n",
    "<p>\n",
    "<center>\n",
    "<img src=\"https://cmps-people.ok.ubc.ca/jbobowsk/PHYS_121_Lab/Lab3/images/y0_hvsx_fill.png\" alt=\"image info\" style=\"width: 45%; height: auto;\" /><br>\n",
    "<b>Fig. 1: A plot of the height above sea level as a function of $x$.</b></center>\n",
    "</p>\n",
    "\n",
    "But what if we wanted to plot the altitude over a *patch* of land?  We might define a second variable $y$, draw an imaginary \"grid\" over the patch of land, and measure the altitude at different gridpoints.  By doing so, we define a function $h(x,y)$.  The more closely spaced our measurements, the more detailed our map.  In Fig. 1 we've labeled the vertical axis of our graph as $h(x,0)$ in anticipation of this.\n",
    "\n",
    "But how should we represent our function $h(x,y)$?  Well... we could construct a 3-dimensional physical model of the land, maybe.  But what if we wanted soemthing that we could print out on a map? Consider the topographic map shown in Fig. 2.\n",
    "\n",
    "<p>\n",
    "<center>\n",
    "<img src=\"https://cmps-people.ok.ubc.ca/jbobowsk/PHYS_121_Lab/Lab3/images/cp.png\" alt=\"image info\" style=\"width: 95%; height: auto;\" /><br>\n",
    "<b>Fig. 2: A topographic map of the rock quarry showing the elevation above sea level as a function of $(x, y)$ coordinates. The difference in height between adjacent contours is $2\\rm\\ m$, and every second contour line is labeled with its height above sea level in meters. </b></center>\n",
    "</p>\n",
    "\n",
    "This type of plot is likely already familiar to you.  It's constructed by drawing lines of constant altitude $h$ &ndash; these lines are called **contours**, and accordingly the plot in Fig. 2. is called a **contour plot**.  The plot above specifies the $x$ position with letters, which is something we wouldn't be inclined to do, but that's okay - if you follow with your finger, you can read from the map above that $h(T, 6) \\approx 24 \\rm\\ m$ above sea level."
   ]
  },
  {
   "attachments": {},
   "cell_type": "markdown",
   "id": "4e2180a7",
   "metadata": {},
   "source": [
    "***\n",
    "**<span style=\"color:blue\">Question 1:</span>**  **<span style=\"color:red\">(1 mark)</span>**\n",
    "\n",
    "Consider the orange arrow in Fig. 2.  If you were to walk along that arrow, would you be\n",
    "\n",
    "(a) Ascending <br>\n",
    "(b) Descending <br>\n",
    "(c) Neither"
   ]
  },
  {
   "attachments": {},
   "cell_type": "markdown",
   "id": "3af6e82c",
   "metadata": {},
   "source": [
    "***\n",
    "**<span style=\"color:blue\">Answer 1:</span>**\n",
    "\n",
    "Replace the ... in the cell below with your answer.  Your answer should be a single character (a, b, or c) between single or double quotes.  \n",
    "*** Please do not change anything to the left of the equals sign. ***"
   ]
  },
  {
   "cell_type": "code",
   "execution_count": null,
   "id": "f3b28f57",
   "metadata": {
    "tags": []
   },
   "outputs": [],
   "source": [
    "a1 = ..."
   ]
  },
  {
   "cell_type": "code",
   "execution_count": null,
   "id": "5ba5c1f8",
   "metadata": {
    "deletable": false,
    "editable": false
   },
   "outputs": [],
   "source": [
    "grader.check(\"Q1\")"
   ]
  },
  {
   "attachments": {},
   "cell_type": "markdown",
   "id": "88d9831b",
   "metadata": {},
   "source": [
    "***\n",
    "**<span style=\"color:blue\">Question 2:</span>**  **<span style=\"color:red\">(1 mark)</span>**\n",
    "\n",
    "Consider the blue arrow in Fig. 2.  If you were to walk along that arrow, would you be\n",
    "\n",
    "(a) Ascending <br>\n",
    "(b) Descending <br>\n",
    "(c) Neither"
   ]
  },
  {
   "attachments": {},
   "cell_type": "markdown",
   "id": "e0b53290",
   "metadata": {},
   "source": [
    "***\n",
    "**<span style=\"color:blue\">Answer 2:</span>**\n",
    "\n",
    "Replace the ... in the cell below with your answer.  Your answer should be a single character (a, b, or c) between single or double quotes.  \n",
    "*** Please do not change anything to the left of the equals sign. ***"
   ]
  },
  {
   "cell_type": "code",
   "execution_count": null,
   "id": "6b83195d",
   "metadata": {
    "tags": []
   },
   "outputs": [],
   "source": [
    "a2 = ..."
   ]
  },
  {
   "cell_type": "code",
   "execution_count": null,
   "id": "fff1076b",
   "metadata": {
    "deletable": false,
    "editable": false
   },
   "outputs": [],
   "source": [
    "grader.check(\"Q2\")"
   ]
  },
  {
   "attachments": {},
   "cell_type": "markdown",
   "id": "91c23d90",
   "metadata": {},
   "source": [
    "***\n",
    "**<span style=\"color:blue\">Question 3:</span>** **<span style=\"color:red\">(1 mark)</span>** \n",
    "\n",
    "Consider the red arrow in Fig. 2.  If you were to walk along that arrow, would you be\n",
    "\n",
    "(a) Ascending <br>\n",
    "(b) Descending <br>\n",
    "(c) Neither"
   ]
  },
  {
   "attachments": {},
   "cell_type": "markdown",
   "id": "cbc623be",
   "metadata": {},
   "source": [
    "***\n",
    "**<span style=\"color:blue\">Answer 3:</span>**\n",
    "\n",
    "Replace the ... in the cell below with your answer.  Your answer should be a single character (a, b, or c) between single or double quotes.  \n",
    "*** Please do not change anything to the left of the equals sign. ***"
   ]
  },
  {
   "cell_type": "code",
   "execution_count": null,
   "id": "07a4726b",
   "metadata": {
    "tags": []
   },
   "outputs": [],
   "source": [
    "a3 = ..."
   ]
  },
  {
   "cell_type": "code",
   "execution_count": null,
   "id": "50f48f26",
   "metadata": {
    "deletable": false,
    "editable": false
   },
   "outputs": [],
   "source": [
    "grader.check(\"Q3\")"
   ]
  },
  {
   "attachments": {},
   "cell_type": "markdown",
   "id": "c04293f2",
   "metadata": {},
   "source": [
    "***\n",
    "**<span style=\"color:blue\">Question 4:</span>**  **<span style=\"color:red\">(1 mark)</span>**\n",
    "\n",
    "Along which arrow in Fig. 2 is the terrain the steepest?\n",
    "\n",
    "(a) Orange arrow <br>\n",
    "(b) Blue arrow <br>\n",
    "(c) Red arrow\n"
   ]
  },
  {
   "attachments": {},
   "cell_type": "markdown",
   "id": "9699693d",
   "metadata": {},
   "source": [
    "***\n",
    "**<span style=\"color:blue\">Answer 4:</span>**\n",
    "\n",
    "Replace the ... in the cell below with your answer.  Your answer should be a single character (a, b, or c) between single or double quotes.  \n",
    "*** Please do not change anything to the left of the equals sign. ***"
   ]
  },
  {
   "cell_type": "code",
   "execution_count": null,
   "id": "13b84b6d",
   "metadata": {
    "tags": []
   },
   "outputs": [],
   "source": [
    "a4 = ..."
   ]
  },
  {
   "cell_type": "code",
   "execution_count": null,
   "id": "e7c152a5",
   "metadata": {
    "deletable": false,
    "editable": false
   },
   "outputs": [],
   "source": [
    "grader.check(\"Q4\")"
   ]
  },
  {
   "cell_type": "markdown",
   "id": "a998346a",
   "metadata": {},
   "source": [
    "<br>\n",
    "\n",
    "***\n",
    "\n",
    "\n",
    "Alternatively, we could encode this data with a colour scale.  Figure 3 below encodes the same information as Figure 2 by representing low altitudes with the colour blue and high altitudes with the colour red.  This is sometimes referred to as a **false colour plot**.\n",
    "\n",
    "<p>\n",
    "<center>\n",
    "<img src=\"https://cmps-people.ok.ubc.ca/jbobowsk/PHYS_121_Lab/Lab3/images/topo_fill.png\" alt=\"image info\" style=\"width: 85%; height: auto;\" /><br>\n",
    "<b>Fig. 3: A false colour plot of the height above sea level as a function of $x$ and $y$.</b></center>\n",
    "</p>\n",
    "\n",
    "Representative contour lines are often superimposed on false colour plots as guides to the eye.  Other than the contours of constant height, Fig. 4 is identical to Fig. 5.\n",
    "\n",
    "<p>\n",
    "<center>\n",
    "<img src=\"https://cmps-people.ok.ubc.ca/jbobowsk/PHYS_121_Lab/Lab3/images/topoContour_fill.png\" alt=\"image info\" style=\"width: 85%; height: auto;\" /><br>\n",
    "<b>Fig. 4: A false colour plot of the height above sea level as a function of $x$ and $y$ with some representative contour lines included.</b></center>\n",
    "</p>\n",
    "\n",
    "Elevation isn't the only thing that can be represented by contour plots and false colour plots - have a look at the infrared image in Figure 5.  The colour scale represents temperature in degrees Fahrenheit ($45.8^\\circ\\rm F = 7.7^\\circ\\rm C$ and $78.2^\\circ\\rm F = 25.7^\\circ\\rm C$).     \n",
    "<p>\n",
    "<center>\n",
    "<img src=\"https://cmps-people.ok.ubc.ca/jbobowsk/PHYS_121_Lab/Lab3/images/deer.jpg\" alt=\"image info\" style=\"width: 40%; height: auto;\" /><br>\n",
    "<b>Fig. 5: An infrared image of a deer in the forest.  Image obtained from <a href = \"https://commons.wikimedia.org/wiki/File:A_deer_in_the_woods._It_was_pitch_black,_but_this_camera_does_not_use_ANY_visible_light._FLIR_infrared._%286968297826%29.jpg\">Wikimedia Commons</a>.</b></center>\n",
    "</p>\n",
    "\n",
    "All of the plots that we've consider so far are used to represent **scalar fields**.  Recall that a **scalar** is a quantity that has a numerical value, but no associated direction.  Simply put - a scalar is just a number.  Height above sea level in a rock quarry and temperature in the forest are both examples of scalar fields.  "
   ]
  },
  {
   "cell_type": "markdown",
   "id": "bb1026ac",
   "metadata": {},
   "source": [
    "***\n",
    "## Vector Fields\n",
    "\n",
    "A **vector** is a quantity that has both *magnitude* and *direction*.  Vectors are typically represented by arrows whose lengths correspond to their magnitude.  A **vector field** is a quantity that has a vector value for *every* point in space and time.  Think about the air flowing around you right now, for instance.  At each point, the air has some speed and some direction.  \n",
    "\n",
    "When representing vector fields pictorially we obviously can't draw *every* vector, as there are infinitely many of them.  Usually, we'll draw representative arrows throughout a region of space, as in Figure 6.  Fig. 6(a) represents a cross-section of the gravitational field around the Earth-moon system and (b) represents the velocity of the water at the surface of a stream.  \n",
    "<br>\n",
    "<p>\n",
    "<center>\n",
    "<img src=\"https://cmps-people.ok.ubc.ca/jbobowsk/PHYS_121_Lab/Lab3/images/vectorField.png\" alt=\"image info\" style=\"width: 70%; height: auto;\" /><br>\n",
    "<b>Fig. 6: Examples of vector fields. (a) the gravitational field in the space around the Earth and moon. (b) The surface water velocity in a river containing a large rock.  Images obtained from <a href = \"https://math.libretexts.org/Bookshelves/Calculus/Book%3A_Calculus_%28OpenStax%29/16%3A_Vector_Calculus/16.1%3A_Vector_Fields\">LibreTexts</a>.</b></center>\n",
    "</p>\n",
    "\n",
    "Notice how colour has been used in both plots to emphasize the magnitude of the vectors.  This due to the fact that representing a vector's magnitude by length alone can make a plot hard to read.  But the magnitude of a vector is just a number - that is, it's a scalar quantity!  In Fig. 6(b), a false colour plot represents the speed of the water at different points in space, with red representing high speeds and blue representing low speeds.  You might say that the velocity field is a vector field, but the \"speed field\" is a scalar field."
   ]
  },
  {
   "attachments": {},
   "cell_type": "markdown",
   "id": "d8591582",
   "metadata": {},
   "source": [
    "***\n",
    "**<span style=\"color:blue\">Question 5:</span>**  **<span style=\"color:red\">(1 mark)</span>**\n",
    "\n",
    "Which of the following is an example of a vector field?\n",
    "\n",
    "(a) The temperature in your room <br>\n",
    "(b) The flow of heat from a radiator in your room <br>\n",
    "(c) Neither"
   ]
  },
  {
   "attachments": {},
   "cell_type": "markdown",
   "id": "832b59ae",
   "metadata": {},
   "source": [
    "***\n",
    "**<span style=\"color:blue\">Answer 5:</span>**\n",
    "\n",
    "Replace the ... in the cell below with your answer.  Your answer should be a single character (a, b, or c) between single or double quotes.  \n",
    "*** Please do not change anything to the left of the equals sign. ***"
   ]
  },
  {
   "cell_type": "code",
   "execution_count": null,
   "id": "17e4edfe",
   "metadata": {
    "tags": []
   },
   "outputs": [],
   "source": [
    "a5 = ..."
   ]
  },
  {
   "cell_type": "code",
   "execution_count": null,
   "id": "1ee7952c",
   "metadata": {
    "deletable": false,
    "editable": false
   },
   "outputs": [],
   "source": [
    "grader.check(\"Q5\")"
   ]
  },
  {
   "attachments": {},
   "cell_type": "markdown",
   "id": "f140fbe0",
   "metadata": {},
   "source": [
    "***\n",
    "**<span style=\"color:blue\">Question 6:</span>**  **<span style=\"color:red\">(1 mark)</span>**\n",
    "\n",
    "Which of the following is an example of a scalar field?\n",
    "\n",
    "(a) The motion of ammonia ice through the atmosphere of Jupiter <br>\n",
    "(b) The concentration of ammonia throughout the atmosphere of Jupiter <br>\n",
    "(c) Neither\n"
   ]
  },
  {
   "attachments": {},
   "cell_type": "markdown",
   "id": "1f46f710",
   "metadata": {},
   "source": [
    "***\n",
    "**<span style=\"color:blue\">Answer 6:</span>**\n",
    "\n",
    "Replace the ... in the cell below with your answer.  Your answer should be a single character (a, b, or c) between single or double quotes.  \n",
    "*** Please do not change anything to the left of the equals sign. ***"
   ]
  },
  {
   "cell_type": "code",
   "execution_count": null,
   "id": "1978a70d",
   "metadata": {
    "tags": []
   },
   "outputs": [],
   "source": [
    "a6 = ..."
   ]
  },
  {
   "cell_type": "code",
   "execution_count": null,
   "id": "b4a27a90",
   "metadata": {
    "deletable": false,
    "editable": false
   },
   "outputs": [],
   "source": [
    "grader.check(\"Q6\")"
   ]
  },
  {
   "cell_type": "markdown",
   "id": "7c6c209b",
   "metadata": {},
   "source": [
    "<br>\n",
    "\n",
    "***\n",
    "## Calculating a Vector Field from a Scalar Field\n",
    "\n",
    "These last few examples emphasize the idea that vector fields often have associated scalar fields, and vice versa.  In many cases it is possible to calculate a vector field from a scalar field via the **gradient** of a scalar field, which describes both the *direction* and *rate* of fastest increase of a field for all points in space.  Since it has a direction, the gradient of a scalar field $\\varphi$ is clearly a vector quantity, and is denoted by $\\nabla \\varphi$.  The resulting field is called a **gradient field**. \n",
    "\n",
    "As an example, from the topographic map of Fig. 4, we can generate a vector field that characterizes the steepest ascent at each point:\n",
    "\n",
    "<p>\n",
    "<center>\n",
    "<img src=\"https://cmps-people.ok.ubc.ca/jbobowsk/PHYS_121_Lab/Lab3/images/topoVector_fill.png\" alt=\"image info\" style=\"width: 85%; height: auto;\" /><br>\n",
    "<b>Fig. 7: A false colour plot of the height above sea level as a function of $x$ and $y$ with some representative contour lines and the steepness vector field.</b></center>\n",
    "</p>\n",
    "\n",
    "We can do this by calculating the quantities $dh/dx$ and $dh/dy$ which tells us how quickly $h$ changes in the $x$ and $y$ directions, respectively.  If, at a particular point in space, $dh/dx$ is large and $dh/hy$ is small, then the hill is steep in the $x$ direction and shallow in the $y$-direction.  If we were to construct the vector\n",
    "<br>\n",
    "\n",
    "\\begin{align}\n",
    "\\mathbf{s} \\equiv \\mathbf{\\nabla} h = \\frac{dh}{dx}\\,\\hat\\imath + \\frac{dh}{dy}\\,\\hat\\jmath,\n",
    "\\end{align}\n",
    "<br>\n",
    "it would tell us the direction of steepest ascent at that point on the mountain.  Fortunately, we don't have to do this calculation manually.  We can use some built-in Python functions to do the calculations for us.  Notice that, in this case, $\\mathbf{s}$ is always perpendicular to the contour lines of constant elevation.  \n",
    "\n",
    "An important example of gradient fields in physics are **conservative** force fields.  These are the gradient fields of the potential energy $U$:\n",
    "<br>\n",
    "\n",
    "\\begin{align}\n",
    "\\mathbf{F}(x,y,z) = -\\mathbf{\\nabla}U \\equiv -\\left(\\frac{dU}{dx}\\,\\hat\\imath + \\frac{dU}{dy}\\,\\hat\\jmath + \\frac{dU}{dy}\\,\\hat{k}\\right)\n",
    "\\end{align}\n"
   ]
  },
  {
   "attachments": {},
   "cell_type": "markdown",
   "id": "185f51f8",
   "metadata": {},
   "source": [
    "***\n",
    "**<span style=\"color:blue\">Question 7:</span>**  **<span style=\"color:red\">(1 mark)</span>**\n",
    "\n",
    "Notice the negative sign in the equation for $\\mathbf{F}$. Considering our interpretation of the field $\\mathbf{s} = \\mathbf{\\nabla} h$, which of the following statements is true?\n",
    "\n",
    "(a) $\\mathbf{F}$ points in the direction of fastest *increase* of the potential energy $U$ <br>\n",
    "(b) $\\mathbf{F}$ points in the direction of fastest *decrease* of the potential energy $U$ <br>\n",
    "(c) Neither"
   ]
  },
  {
   "attachments": {},
   "cell_type": "markdown",
   "id": "853d9cba",
   "metadata": {},
   "source": [
    "***\n",
    "**<span style=\"color:blue\">Answer 7:</span>**\n",
    "\n",
    "Replace the ... in the cell below with your answer.  Your answer should be a single character (a, b, or c) between single or double quotes.  \n",
    "*** Please do not change anything to the left of the equals sign. ***"
   ]
  },
  {
   "cell_type": "code",
   "execution_count": null,
   "id": "e95255ab",
   "metadata": {
    "tags": []
   },
   "outputs": [],
   "source": [
    "a7 = ..."
   ]
  },
  {
   "cell_type": "code",
   "execution_count": null,
   "id": "db4b2126",
   "metadata": {
    "deletable": false,
    "editable": false
   },
   "outputs": [],
   "source": [
    "grader.check(\"Q7\")"
   ]
  },
  {
   "cell_type": "markdown",
   "id": "90aabfb9",
   "metadata": {},
   "source": [
    "***\n",
    "\n",
    "Similarly, time-invariant electric fields $\\mathbf{E}$ are negative gradient fields of the electric potential $V$. In this week's lab, you will be measuring a two-dimensional electric potential $V(x,y)$.  From the data you collect, you will find the electric field $\\mathbf{E}(x,y)$ via the equation\n",
    "<br>\n",
    "\n",
    "\\begin{align}\n",
    "\\mathbf{E}(x,y) = -\\left( \\frac{dV}{dx}\\,\\hat\\imath + \\frac{dV}{dy}\\,\\hat\\jmath \\right)\n",
    "\\end{align}"
   ]
  },
  {
   "cell_type": "markdown",
   "id": "4d926478",
   "metadata": {},
   "source": [
    "***\n",
    "\n",
    "Recall our formal definition now: a **field** is *any* quantity $\\varphi(x, y, z, t)$ that has a value associated with all points $(x,y,z)$ in space and moments $t$ in time.  If the field is time-invariant, or if we're just looking at a \"snapshot\" of the field, we might consider only its values in space and write $\\varphi(x, y, z)$.  Moreover, if we're only considering values over a two-dimensional surface, we might describe our field by $\\varphi(x, y)$.  \n",
    "\n",
    "The abstraction of mathematics equips us with a concrete set of tools we can use for analysis and interpretation, regardless of what type of field we're dealing with.  Learning to work with these mathematical ideas takes some practice, but even if you find yourself lost in the abstraction you should never lose sight of the *physics* behind the mathematics.  Fields are a fundamentally physically motivated concept which find *many* uses in physics and beyond."
   ]
  },
  {
   "attachments": {},
   "cell_type": "markdown",
   "id": "e7bfac3d",
   "metadata": {},
   "source": [
    "# <div style=\"background-color:rgba(255, 204, 255, 0.5); text-align:center; vertical-align: middle; padding:40px 0; margin-top:30px\"><span style=\"color:rgba(102, 0, 204, 1);\">Feedback and Submission</span></div>"
   ]
  },
  {
   "attachments": {},
   "cell_type": "markdown",
   "id": "acbe9ad0",
   "metadata": {},
   "source": [
    "<!-- BEGIN QUESTION -->\n",
    "\n",
    "**<span style=\"color:blue\">Feedback Question:</span>**  \n",
    "\n",
    "We welcome your feedback on the PHYS 121 pre-labs!  Please feel free to include any comments you have about this pre-lab in the cell below.  Your comments will be taken into consideration when revising/improving the PHYS 121 labs and pre-labs.  You can suggest improvements, point out anything that was unclear, comment on the strengths and weaknesses of the pre-lab, ...\n",
    "\n",
    "This question is optional and will have no impact on your pre-lab or lab grade."
   ]
  },
  {
   "attachments": {},
   "cell_type": "markdown",
   "id": "089acdff",
   "metadata": {},
   "source": [
    "***\n",
    "**<span style=\"color:blue\">Feedback Answer:</span>**\n",
    "\n",
    "[//]: # (Please do not delete this comment or anything above it.  Anything below this comment can be deleted.)  \n",
    "\n",
    "Double click this cell and enter your text here.  When done, hit 'Shift' + 'Enter' to execute the cell.  You may delete this text when entering your answer. "
   ]
  },
  {
   "cell_type": "markdown",
   "id": "1da8c647",
   "metadata": {
    "deletable": false,
    "editable": false,
    "tags": []
   },
   "source": [
    "<!-- END QUESTION -->\n",
    "\n",
    "---\n",
    "\n",
    "To double-check your work, the cell below will rerun all of the autograder tests."
   ]
  },
  {
   "cell_type": "code",
   "execution_count": null,
   "id": "5c7dce4f",
   "metadata": {
    "deletable": false,
    "editable": false,
    "tags": []
   },
   "outputs": [],
   "source": [
    "grader.check_all()"
   ]
  },
  {
   "attachments": {},
   "cell_type": "markdown",
   "id": "71e2683b",
   "metadata": {
    "deletable": false,
    "editable": false,
    "tags": []
   },
   "source": [
    "***\n",
    "\n",
    "## Submission\n",
    "\n",
    "Make sure you have run all cells in your notebook in order before running the cell below, so that all images/graphs appear in the output. The cell below will generate a zip file for you to submit. **Please save before exporting!**\n",
    "\n",
    "Once you've completed this notebook:\n",
    "- Save your work.\n",
    "- Run 'grader.export()' to generate a .zip file containing all of the materials that you will submit.\n",
    "- Download the generated .zip file.\n",
    "- Upload the .zip file to the PHYS 121 Lab Canvas gradebook.\n",
    "\n",
    "Here is a <a href = \"https://cmps-people.ok.ubc.ca/jbobowsk/phys231/Python/images/Submission.gif\">GIF</a> showing how these steps are completed.  Once your completed notebook has been uploaded to the Canvas gradebook, you're done!"
   ]
  },
  {
   "cell_type": "code",
   "execution_count": null,
   "id": "cac2401a",
   "metadata": {
    "deletable": false,
    "editable": false,
    "tags": []
   },
   "outputs": [],
   "source": [
    "# Save your notebook first, then run this cell (place your cursor in the cell and then hit Shift + Enter) to export \n",
    "# your submission.  Uploaded the .zip file that is generated to the gradebook of the Canvas shell for the PHYS 121 lab.\n",
    "grader.export()"
   ]
  },
  {
   "attachments": {},
   "cell_type": "markdown",
   "id": "83c61948",
   "metadata": {},
   "source": [
    "***\n",
    "Last update: January 26, 2023"
   ]
  }
 ],
 "metadata": {
  "kernelspec": {
   "display_name": ".venv",
   "language": "python",
   "name": "python3"
  },
  "language_info": {
   "codemirror_mode": {
    "name": "ipython",
    "version": 3
   },
   "file_extension": ".py",
   "mimetype": "text/x-python",
   "name": "python",
   "nbconvert_exporter": "python",
   "pygments_lexer": "ipython3",
   "version": "3.10.6"
  },
  "otter": {
   "OK_FORMAT": true,
   "tests": {
    "Q1": {
     "name": "Q1",
     "points": null,
     "suites": [
      {
       "cases": [
        {
         "code": ">>> a1.lower() in [\"a\", \"b\", \"c\"]\nTrue",
         "failure_message": "Your answer must be a string of one of 'a', 'b', or 'c'.",
         "hidden": false,
         "locked": false,
         "points": 0
        }
       ],
       "scored": true,
       "setup": "",
       "teardown": "",
       "type": "doctest"
      }
     ]
    },
    "Q2": {
     "name": "Q2",
     "points": null,
     "suites": [
      {
       "cases": [
        {
         "code": ">>> a2.lower() in [\"a\", \"b\", \"c\"]\nTrue",
         "failure_message": "Your answer must be a string of one of 'a', 'b', or 'c'.",
         "hidden": false,
         "locked": false,
         "points": 0
        }
       ],
       "scored": true,
       "setup": "",
       "teardown": "",
       "type": "doctest"
      }
     ]
    },
    "Q3": {
     "name": "Q3",
     "points": null,
     "suites": [
      {
       "cases": [
        {
         "code": ">>> a3.lower() in [\"a\", \"b\", \"c\"]\nTrue",
         "failure_message": "Your answer must be a string of one of 'a', 'b', or 'c'.",
         "hidden": false,
         "locked": false,
         "points": 0
        }
       ],
       "scored": true,
       "setup": "",
       "teardown": "",
       "type": "doctest"
      }
     ]
    },
    "Q4": {
     "name": "Q4",
     "points": null,
     "suites": [
      {
       "cases": [
        {
         "code": ">>> a4.lower() in [\"a\", \"b\", \"c\"]\nTrue",
         "failure_message": "Your answer must be a string of one of 'a', 'b', or 'c'.",
         "hidden": false,
         "locked": false,
         "points": 0
        }
       ],
       "scored": true,
       "setup": "",
       "teardown": "",
       "type": "doctest"
      }
     ]
    },
    "Q5": {
     "name": "Q5",
     "points": null,
     "suites": [
      {
       "cases": [
        {
         "code": ">>> a5.lower() in [\"a\", \"b\", \"c\"]\nTrue",
         "failure_message": "Your answer must be a string of one of 'a', 'b', or 'c'.",
         "hidden": false,
         "locked": false,
         "points": 0
        }
       ],
       "scored": true,
       "setup": "",
       "teardown": "",
       "type": "doctest"
      }
     ]
    },
    "Q6": {
     "name": "Q6",
     "points": null,
     "suites": [
      {
       "cases": [
        {
         "code": ">>> a6.lower() in [\"a\", \"b\", \"c\"]\nTrue",
         "failure_message": "Your answer must be a string of one of 'a', 'b', or 'c'.",
         "hidden": false,
         "locked": false,
         "points": 0
        }
       ],
       "scored": true,
       "setup": "",
       "teardown": "",
       "type": "doctest"
      }
     ]
    },
    "Q7": {
     "name": "Q7",
     "points": null,
     "suites": [
      {
       "cases": [
        {
         "code": ">>> a7.lower() in [\"a\", \"b\", \"c\"]\nTrue",
         "failure_message": "Your answer must be a string of one of 'a', 'b', or 'c'.",
         "hidden": false,
         "locked": false,
         "points": 0
        }
       ],
       "scored": true,
       "setup": "",
       "teardown": "",
       "type": "doctest"
      }
     ]
    }
   }
  },
  "vscode": {
   "interpreter": {
    "hash": "b870ad910a049d8ae52495743c7bc32c2e217ef524f139ca97c6947f4622129b"
   }
  }
 },
 "nbformat": 4,
 "nbformat_minor": 5
}
