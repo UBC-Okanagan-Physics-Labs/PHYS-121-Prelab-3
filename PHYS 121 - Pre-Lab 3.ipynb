{
 "cells": [
  {
   "cell_type": "markdown",
   "id": "beb33691",
   "metadata": {
    "deletable": false,
    "editable": false,
    "tags": []
   },
   "source": [
    "# <div style=\"background-color:rgba(204, 229, 255, 0.5); text-align:center; vertical-align: middle; padding:40px 0; margin-top:30px\"><span style=\"color:rgba(0, 76, 153, 1);\">**PHYS 121 Pre-Lab #3**<span style=\"color:red\"> $\\to$ (7 possible marks)</span> </span></div> \n",
    "\n",
    "<font size =\"4\"><span style=\"color:purple\">We recommend that you complete this notebook using either the [Google Chrome](https://www.google.com/intl/en_ca/chrome/) or [Mozilla Firefox](https://www.mozilla.org/en-CA/firefox/new/) browser.  Chrome and Firefox are both available for Windows, Mac, and Linux operating systems.  The PHYS 121 Jupyter notebooks should work in other browsers, but we have specifically verfied that they work well in both Chrome and Firefox.</span></font>\n",
    "\n",
    "# Electric Potential & Electric Fields"
   ]
  },
  {
   "cell_type": "markdown",
   "id": "f14a6731",
   "metadata": {
    "deletable": false,
    "editable": false,
    "tags": []
   },
   "source": [
    "***\n",
    "## Learning Objectives:\n",
    "* <b><span style=\"color:rgba(0, 153, 76, 1);\">Gain familiarity with the term *field* as it is used in physics, and distinguish between scalar fields and vector fields.</span></b>\n",
    "* <b><span style=\"color:rgba(0, 153, 76, 1);\">Become familiar with different ways to represent fields in two-dimensional plots.</span></b>\n",
    "* <b><span style=\"color:rgba(0, 153, 76, 1);\">Extract information for two-dimensional plots that represent either scalar or vector fields.</span></b>\n",
    "\n",
    "\n",
    "The term field comes up a lot in physics: you've probably heard the terms *gravitational field*, *electric field*, *force field*, and *magnetic field*.  But what do we mean when we call something a field?  Mathematically speaking, a **field** is any quantity $\\varphi(x, y, z, t)$ that has an associated value at all points $(x,y,z)$ in space and moments $t$ in time.  The type of value depends on the type of field: $\\varphi$ might be **scalar**-valued or **vector**-valued.  \n",
    "\n",
    "This definition might be unfamiliar at first, or it might seem simple but too abstract to be meaningful.  Through a series of examples and questions, this pre-lab will serve as a gentle introduction to scalar- and vector-valued fields and their representations.  We'll conclude by revisiting the formal definition.\n"
   ]
  },
  {
   "cell_type": "markdown",
   "id": "a888c87e",
   "metadata": {
    "deletable": false,
    "editable": false,
    "tags": []
   },
   "source": [
    "***\n",
    "## Autograding:\n",
    "The PHYS 121 Pre-lab assignments and Labs will make use of some autograding.  To make the autograding work, the two cells below needs to be executed.  The first one installs the required packages and the second imports required packages/modules.  If 'PHYS121.Installer()' reports that some functions have been installed, the user should exectute the PHYS121.Installer() cell a second time.  The second time the installer function is run, it should report that **\"All packages already installed. Please proceed\"**.\n",
    "\n",
    "If necessary, the kernel can be restarted by selecting **Kernel** $\\to$ **Restart Kernel** from the menu options at to the top of the page.  Here is a <a href = \"https://raw.githubusercontent.com/UBC-Okanagan-Physics-Labs/PHYS-121-images/main/general/gifs/restartKernel.gif\">GIF</a> showing how to restart the kernel.\n",
    "\n",
    "The 'PHYS121.Installer()' command requires the file 'PHYS121.py', which you should see included in the list of files along the left-hand side of the screen."
   ]
  },
  {
   "cell_type": "code",
   "execution_count": null,
   "id": "949e64f4",
   "metadata": {
    "deletable": false,
    "editable": false,
    "tags": []
   },
   "outputs": [],
   "source": [
    "# Import PHYS121.py and then run the installer function.\n",
    "import PHYS121\n",
    "PHYS121.Installer()"
   ]
  },
  {
   "cell_type": "code",
   "execution_count": null,
   "id": "55697eb2",
   "metadata": {
    "deletable": false,
    "editable": false,
    "tags": []
   },
   "outputs": [],
   "source": [
    "# Initialize Otter\n",
    "import otter\n",
    "grader = otter.Notebook(\"PHYS 121 - Pre-Lab 3.ipynb\")"
   ]
  },
  {
   "cell_type": "markdown",
   "id": "901df9a7",
   "metadata": {
    "deletable": false,
    "editable": false,
    "tags": []
   },
   "source": [
    "***\n",
    "## Import Modules:\n",
    "Execute the cell below to import a number of useful pre-built Python modules that will be used in the PHYS 121 pre-labs and labs."
   ]
  },
  {
   "cell_type": "code",
   "execution_count": null,
   "id": "60f29978",
   "metadata": {},
   "outputs": [],
   "source": [
    "import numpy as np\n",
    "import matplotlib.pyplot as plt\n",
    "from matplotlib.pyplot import cm # used to generate a sequence of colours for plotting\n",
    "from scipy.optimize import curve_fit\n",
    "from IPython.display import HTML as html_print\n",
    "from IPython.display import display, Markdown, Latex"
   ]
  },
  {
   "cell_type": "markdown",
   "id": "914a4e0d",
   "metadata": {
    "deletable": false,
    "editable": false,
    "tags": []
   },
   "source": [
    "# <div style=\"background-color:rgba(255, 204, 255, 0.5); text-align:center; vertical-align: middle; padding:40px 0; margin-top:30px\"><span style=\"color:rgba(102, 0, 204, 1);\">Part 1 - Scalar Fields</span></div>\n",
    "\n",
    "Suppose you were to walk over rough terrain in a perfectly straight line, measuring your altitude $h$ above sea level at regular intervals.  If you were to denote distance from the starting point by the variable $x$, you could define a function $h(x)$.  Plotting this function produces something that looks like a cross-section of the terrain:\n",
    "\n",
    "<p>\n",
    "<center>\n",
    "<img src=\"https://raw.githubusercontent.com/UBC-Okanagan-Physics-Labs/PHYS-121-images/main/Pre-Lab-3/images/y0_hvsx_fill.png\" alt=\"image info\" style=\"width: 35%; height: auto;\" /><br>\n",
    "<b>Fig. 1: A plot of the height above sea level as a function of $x$.</b></center>\n",
    "</p>\n",
    "\n",
    "But what if we wanted to plot the altitude over a *patch* of land?  We might define a second variable $y$, draw an imaginary \"grid\" over the patch of land, and measure the altitude at each gridpoint.  In doing so, we would implicitly define a function $h(x,y)$ that gives our altitude as a function of both the $(x, y)$ coordinates.  The more closely spaced our measurements, the more detailed our map.  In Fig. 1 we've labeled the vertical axis of our graph as $h(x,0)$ in anticipation of this.\n",
    "\n",
    "But how should we represent our function $h(x,y)$?  One option might be to construct a 3-dimensional scale model of the terrain.  What if we wanted soemthing that we could print out on a 2-D map? Consider the topographic map shown in Fig. 2.\n",
    "\n",
    "<p>\n",
    "<center>\n",
    "<img src=\"https://raw.githubusercontent.com/UBC-Okanagan-Physics-Labs/PHYS-121-images/main/Pre-Lab-3/images/cp.png\" alt=\"image info\" style=\"width: 65%; height: auto;\" /><br>\n",
    "<b>Fig. 2: Topographic map of a rock quarry showing the elevation above sea level as a function of $(x, y)$ coordinates. The difference in height between adjacent contours is $2\\rm\\ m$, and every second contour line is labeled with its height above sea level in meters. </b></center>\n",
    "</p>\n",
    "\n",
    "This type of plot is likely already familiar to you.  It's constructed by drawing lines of constant altitude $h$ &ndash; these lines are called **contours**, and the plot shown in Fig. 2 is called a **contour plot**.  The plot above specifies the $x$ position with letters, which is something we wouldn't be inclined to do, but that's okay - if you follow with your finger, you can read from the map above that $h(T, 6) \\approx 24 \\rm\\ m$ above sea level.\n",
    "\n",
    "### <span style=\"color:purple\">The 'PHYS121.graderCheck(...)' statements in this Pre-Lab only check that answers have been entered in the correct format.  They do **NOT** check that you've entered the correct answer.</span> "
   ]
  },
  {
   "cell_type": "markdown",
   "id": "a25e368e",
   "metadata": {
    "deletable": false,
    "editable": false,
    "tags": []
   },
   "source": [
    "***\n",
    "**<span style=\"color:blue\">Question 1.1</span>**  **<span style=\"color:red\">(1 mark)</span>**\n",
    "\n",
    "Consider the orange arrow in Fig. 2.  If you were to walk along that arrow, would you be\n",
    "\n",
    "(a) Ascending <br>\n",
    "(b) Descending <br>\n",
    "(c) Neither"
   ]
  },
  {
   "cell_type": "markdown",
   "id": "d56dc488",
   "metadata": {
    "deletable": false,
    "editable": false,
    "tags": []
   },
   "source": [
    "***\n",
    "**<span style=\"color:blue\">Answer 1.1:</span>**\n",
    "\n",
    "Replace the ... in the cell below with your answer.  Your answer should be a single character (a, b, or c) between single or double quotes.  \n",
    "*** Please do not change anything to the left of the equals sign. ***"
   ]
  },
  {
   "cell_type": "code",
   "execution_count": null,
   "id": "1cf4e192",
   "metadata": {
    "tags": []
   },
   "outputs": [],
   "source": [
    "a1_1 = ..."
   ]
  },
  {
   "cell_type": "code",
   "execution_count": null,
   "id": "4baf0e13",
   "metadata": {
    "deletable": false,
    "editable": false
   },
   "outputs": [],
   "source": [
    "PHYS121.graderCheck([a1_1], ['a1_1'], grader.check('Q1.1'))"
   ]
  },
  {
   "cell_type": "markdown",
   "id": "c32aae67",
   "metadata": {
    "deletable": false,
    "editable": false,
    "tags": []
   },
   "source": [
    "***\n",
    "**<span style=\"color:blue\">Question 1.2</span>**  **<span style=\"color:red\">(1 mark)</span>**\n",
    "\n",
    "Consider the blue arrow in Fig. 2.  If you were to walk along that arrow, would you be\n",
    "\n",
    "(a) Ascending <br>\n",
    "(b) Descending <br>\n",
    "(c) Neither"
   ]
  },
  {
   "cell_type": "markdown",
   "id": "fb1cc2ca",
   "metadata": {
    "deletable": false,
    "editable": false,
    "tags": []
   },
   "source": [
    "***\n",
    "**<span style=\"color:blue\">Answer 1.2:</span>**\n",
    "\n",
    "Replace the ... in the cell below with your answer.  Your answer should be a single character (a, b, or c) between single or double quotes.  \n",
    "*** Please do not change anything to the left of the equals sign. ***"
   ]
  },
  {
   "cell_type": "code",
   "execution_count": null,
   "id": "aebfd6aa",
   "metadata": {
    "tags": []
   },
   "outputs": [],
   "source": [
    "a1_2 = ..."
   ]
  },
  {
   "cell_type": "code",
   "execution_count": null,
   "id": "cd5d7454",
   "metadata": {
    "deletable": false,
    "editable": false
   },
   "outputs": [],
   "source": [
    "PHYS121.graderCheck([a1_2], ['a1_2'], grader.check('Q1.2'))"
   ]
  },
  {
   "cell_type": "markdown",
   "id": "45ec221a",
   "metadata": {
    "deletable": false,
    "editable": false,
    "tags": []
   },
   "source": [
    "***\n",
    "**<span style=\"color:blue\">Question 1.3</span>** **<span style=\"color:red\">(1 mark)</span>** \n",
    "\n",
    "Consider the red arrow in Fig. 2.  If you were to walk along that arrow, would you be\n",
    "\n",
    "(a) Ascending <br>\n",
    "(b) Descending <br>\n",
    "(c) Neither"
   ]
  },
  {
   "cell_type": "markdown",
   "id": "a9e67a5b",
   "metadata": {
    "deletable": false,
    "editable": false,
    "tags": []
   },
   "source": [
    "***\n",
    "**<span style=\"color:blue\">Answer 1.3:</span>**\n",
    "\n",
    "Replace the ... in the cell below with your answer.  Your answer should be a single character (a, b, or c) between single or double quotes.  \n",
    "*** Please do not change anything to the left of the equals sign. ***"
   ]
  },
  {
   "cell_type": "code",
   "execution_count": null,
   "id": "bd18a928",
   "metadata": {
    "tags": []
   },
   "outputs": [],
   "source": [
    "a1_3 = ..."
   ]
  },
  {
   "cell_type": "code",
   "execution_count": null,
   "id": "f7f1625b",
   "metadata": {
    "deletable": false,
    "editable": false
   },
   "outputs": [],
   "source": [
    "PHYS121.graderCheck([a1_3], ['a1_3'], grader.check('Q1.3'))"
   ]
  },
  {
   "cell_type": "markdown",
   "id": "114c53d3",
   "metadata": {
    "deletable": false,
    "editable": false,
    "tags": []
   },
   "source": [
    "***\n",
    "**<span style=\"color:blue\">Question 1.4</span>**  **<span style=\"color:red\">(1 mark)</span>**\n",
    "\n",
    "Along which arrow in Fig. 2 is the terrain the steepest?\n",
    "\n",
    "(a) Orange arrow <br>\n",
    "(b) Blue arrow <br>\n",
    "(c) Red arrow\n"
   ]
  },
  {
   "cell_type": "markdown",
   "id": "82eb38f5",
   "metadata": {
    "deletable": false,
    "editable": false,
    "tags": []
   },
   "source": [
    "***\n",
    "**<span style=\"color:blue\">Answer 1.4:</span>**\n",
    "\n",
    "Replace the ... in the cell below with your answer.  Your answer should be a single character (a, b, or c) between single or double quotes.  \n",
    "*** Please do not change anything to the left of the equals sign. ***"
   ]
  },
  {
   "cell_type": "code",
   "execution_count": null,
   "id": "f00f5686",
   "metadata": {
    "tags": []
   },
   "outputs": [],
   "source": [
    "a1_4 = ..."
   ]
  },
  {
   "cell_type": "code",
   "execution_count": null,
   "id": "6e6c4e45",
   "metadata": {
    "deletable": false,
    "editable": false
   },
   "outputs": [],
   "source": [
    "PHYS121.graderCheck([a1_4], ['a1_4'], grader.check('Q1.4'))"
   ]
  },
  {
   "cell_type": "markdown",
   "id": "18042d30",
   "metadata": {
    "deletable": false,
    "editable": false,
    "tags": []
   },
   "source": [
    "<br>\n",
    "\n",
    "***\n",
    "\n",
    "\n",
    "Alternatively, we could encode the altitude in Fig. 2 using a colour scale.  Figure 3 below encodes the same information as Fig. 2 by representing low altitudes with the colour blue and high altitudes with the colour red.  This is sometimes referred to as a **false-colour plot**.\n",
    "\n",
    "<p>\n",
    "<center>\n",
    "<img src=\"https://raw.githubusercontent.com/UBC-Okanagan-Physics-Labs/PHYS-121-images/main/Pre-Lab-3/images/topo_fill.png\" alt=\"image info\" style=\"width: 65%; height: auto;\" /><br>\n",
    "<b>Fig. 3: A false colour plot of the height above sea level as a function of $x$ and $y$.</b></center>\n",
    "</p>\n",
    "\n",
    "Representative contour lines are often superimposed on false colour plots as guides to the eye.  Other than the contours of constant height, Fig. 4 is identical to Fig. 3.\n",
    "\n",
    "<p>\n",
    "<center>\n",
    "<img src=\"https://raw.githubusercontent.com/UBC-Okanagan-Physics-Labs/PHYS-121-images/main/Pre-Lab-3/images/topoContour_fill.png\" alt=\"image info\" style=\"width: 65%; height: auto;\" /><br>\n",
    "<b>Fig. 4: A false colour plot of the height above sea level as a function of $x$ and $y$ with some representative contour lines included.</b></center>\n",
    "</p>\n",
    "\n",
    "Elevation isn't the only thing that can be represented by contour plots and false-colour plots - have a look at the infrared image in Fig. 5.  The colour scale represents temperature in degrees Fahrenheit ($45.8^\\circ\\rm F = 7.7^\\circ\\rm C$ and $78.2^\\circ\\rm F = 25.7^\\circ\\rm C$).     \n",
    "<p>\n",
    "<center>\n",
    "<img src=\"https://raw.githubusercontent.com/UBC-Okanagan-Physics-Labs/PHYS-121-images/main/Pre-Lab-3/images/deer.jpg\" alt=\"image info\" style=\"width: 40%; height: auto;\" /><br>\n",
    "<b>Fig. 5: An infrared image of a deer in the forest.  Image obtained from <a href = \"https://commons.wikimedia.org/wiki/File:A_deer_in_the_woods._It_was_pitch_black,_but_this_camera_does_not_use_ANY_visible_light._FLIR_infrared._%286968297826%29.jpg\">Wikimedia Commons</a>.</b></center>\n",
    "</p>\n",
    "\n",
    "All of the plots that we've consider so far are used to represent **scalar fields**.  Recall that a **scalar** is a quantity that has a numerical value, but no associated direction.  Simply put - a scalar is just a number.  Height above sea level in a rock quarry and temperature in the forest are both examples of scalar fields.  "
   ]
  },
  {
   "cell_type": "markdown",
   "id": "ba53d1ea",
   "metadata": {
    "deletable": false,
    "editable": false,
    "tags": []
   },
   "source": [
    "# <div style=\"background-color:rgba(255, 204, 255, 0.5); text-align:center; vertical-align: middle; padding:40px 0; margin-top:30px\"><span style=\"color:rgba(102, 0, 204, 1);\">Part 2 - Vector Fields</span></div>\n",
    "\n",
    "A **vector** is a quantity that has both *magnitude* and *direction*.  Vectors are typically represented by arrows whose lengths correspond to their magnitude.  A **vector field** is a quantity that has a vector value for *every* point in space and time.  Think about the air flowing around you right now, for instance.  At each point, the air has some speed and some direction.  \n",
    "\n",
    "When representing vector fields pictorially, we obviously can't draw *every* vector, as there are infinitely many of them.  Usually, we'll draw representative arrows throughout a region of space, as in Fig. 6.  Figure 6(a) represents a cross-section of the gravitational field around the Earth-moon system and (b) represents the velocity of the water at the surface of a stream.  \n",
    "<br>\n",
    "<p>\n",
    "<center>\n",
    "<img src=\"https://raw.githubusercontent.com/UBC-Okanagan-Physics-Labs/PHYS-121-images/main/Pre-Lab-3/images/vectorField.png\" alt=\"image info\" style=\"width: 50%; height: auto;\" /><br>\n",
    "<b>Fig. 6: Examples of vector fields. (a) the gravitational field in the space around the Earth and moon. (b) The surface water velocity in a river containing a large rock.  Images obtained from <a href = \"https://math.libretexts.org/Bookshelves/Calculus/Book%3A_Calculus_%28OpenStax%29/16%3A_Vector_Calculus/16.1%3A_Vector_Fields\">LibreTexts</a>.</b></center>\n",
    "</p>\n",
    "\n",
    "Notice how colour has been used in both plots to emphasize the magnitude of the vectors.  This due to the fact that representing a vector's magnitude by length alone can make a plot hard to read.  But the magnitude of a vector is just a number - that is, it's a scalar quantity!  In Fig. 6(b), a false colour plot represents the speed of the water at different points in space, with red representing high speeds and blue representing low speeds."
   ]
  },
  {
   "cell_type": "markdown",
   "id": "e4a47bea",
   "metadata": {
    "deletable": false,
    "editable": false,
    "tags": []
   },
   "source": [
    "***\n",
    "**<span style=\"color:blue\">Question 2.1</span>**  **<span style=\"color:red\">(1 mark)</span>**\n",
    "\n",
    "Which of the following is an example of a vector field?\n",
    "\n",
    "(a) The temperature in your room <br>\n",
    "(b) The flow of heat from a radiator in your room <br>\n",
    "(c) Neither"
   ]
  },
  {
   "cell_type": "markdown",
   "id": "a48f450b",
   "metadata": {
    "deletable": false,
    "editable": false,
    "tags": []
   },
   "source": [
    "***\n",
    "**<span style=\"color:blue\">Answer 2.1:</span>**\n",
    "\n",
    "Replace the ... in the cell below with your answer.  Your answer should be a single character (a, b, or c) between single or double quotes.  \n",
    "*** Please do not change anything to the left of the equals sign. ***"
   ]
  },
  {
   "cell_type": "code",
   "execution_count": null,
   "id": "45cf53d4",
   "metadata": {
    "tags": []
   },
   "outputs": [],
   "source": [
    "a2_1 = ..."
   ]
  },
  {
   "cell_type": "code",
   "execution_count": null,
   "id": "ed8589da",
   "metadata": {
    "deletable": false,
    "editable": false
   },
   "outputs": [],
   "source": [
    "PHYS121.graderCheck([a2_1], ['a2_1'], grader.check('Q2.1'))"
   ]
  },
  {
   "cell_type": "markdown",
   "id": "f49ef420",
   "metadata": {
    "deletable": false,
    "editable": false,
    "tags": []
   },
   "source": [
    "***\n",
    "**<span style=\"color:blue\">Question 2.2</span>**  **<span style=\"color:red\">(1 mark)</span>**\n",
    "\n",
    "Which of the following is an example of a scalar field?\n",
    "\n",
    "(a) The motion of ammonia ice through the atmosphere of Jupiter <br>\n",
    "(b) The concentration of ammonia throughout the atmosphere of Jupiter <br>\n",
    "(c) Neither\n"
   ]
  },
  {
   "cell_type": "markdown",
   "id": "2ec2e242",
   "metadata": {
    "deletable": false,
    "editable": false,
    "tags": []
   },
   "source": [
    "***\n",
    "**<span style=\"color:blue\">Answer 2.2:</span>**\n",
    "\n",
    "Replace the ... in the cell below with your answer.  Your answer should be a single character (a, b, or c) between single or double quotes.  \n",
    "*** Please do not change anything to the left of the equals sign. ***"
   ]
  },
  {
   "cell_type": "code",
   "execution_count": null,
   "id": "42d3eaaf",
   "metadata": {
    "tags": []
   },
   "outputs": [],
   "source": [
    "a2_2 = ..."
   ]
  },
  {
   "cell_type": "code",
   "execution_count": null,
   "id": "88daf2e2",
   "metadata": {
    "deletable": false,
    "editable": false
   },
   "outputs": [],
   "source": [
    "PHYS121.graderCheck([a2_2], ['a2_2'], grader.check('Q2.2'))"
   ]
  },
  {
   "cell_type": "markdown",
   "id": "59e352a2",
   "metadata": {
    "deletable": false,
    "editable": false,
    "tags": []
   },
   "source": [
    "# <div style=\"background-color:rgba(255, 204, 255, 0.5); text-align:center; vertical-align: middle; padding:40px 0; margin-top:30px\"><span style=\"color:rgba(102, 0, 204, 1);\">Part 3 - Calculating a Vector Field from a Scalar Field</span></div>\n",
    "\n",
    "These last few examples emphasize the idea that vector fields often have associated scalar fields, and vice versa.  In many cases it is possible to calculate a vector field from the derivatives of a scalar field.  For example, for a topographic map, $dh/dx$ describes the rate of change of the height in the $x$ direction and, likewise, $dh/dy$ describes the rate of change of the height in the $y$ direction.  In other words, $dh/dx$ and $dh/dy$ characterize the steepness of the terrain.  The steepness, on its own, would represent a scalar field.  However, if we construct the vector\n",
    "$$ \\mathbf{s} = \\frac{dh}{dx}\\,\\hat\\imath + \\frac{dh}{dy}\\,\\hat\\jmath $$\n",
    "it tells us the direction of steepest ascent.  Since it has a direction, quantity $\\mathbf{s}$, constructed from the derivatives of the height $h$, is an example of a vector field. \n",
    "\n",
    "As an example, from the topographic map of Fig. 4, we can generate a vector field that characterizes the steepest ascent at each point:\n",
    "\n",
    "<p>\n",
    "<center>\n",
    "<img src=\"https://raw.githubusercontent.com/UBC-Okanagan-Physics-Labs/PHYS-121-images/main/Pre-Lab-3/images/topoVector_fill.png\" alt=\"image info\" style=\"width: 65%; height: auto;\" /><br>\n",
    "<b>Fig. 7: A false colour plot of the height above sea level as a function of $x$ and $y$ with some representative contour lines and the steepness vector field.</b></center>\n",
    "</p>\n",
    "\n",
    "We can do this by calculating the quantities $dh/dx$ and $dh/dy$ which tells us how quickly $h$ changes in the $x$ and $y$ directions, respectively.  If, at a particular point in space, $dh/dx$ is large and $dh/hy$ is small, then the hill is steep in the $x$ direction and shallow in the $y$-direction.  Notice that $\\mathbf{s}$ is always perpendicular to the contour lines of constant height/elevation.  \n",
    "\n",
    "An important example of vector fields in physics are **conservative** force fields.  These are constructed from the spatial derivatives of a potential energy $U$:\n",
    "<br>\n",
    "\n",
    "\\begin{align}\n",
    "\\mathbf{F}(x,y,z) = -\\left(\\frac{dU}{dx}\\,\\hat\\imath + \\frac{dU}{dy}\\,\\hat\\jmath + \\frac{dU}{dy}\\,\\hat{k}\\right)\n",
    "\\end{align}"
   ]
  },
  {
   "cell_type": "markdown",
   "id": "1d34e8de",
   "metadata": {
    "deletable": false,
    "editable": false,
    "tags": []
   },
   "source": [
    "***\n",
    "**<span style=\"color:blue\">Question 3.1</span>**  **<span style=\"color:red\">(1 mark)</span>**\n",
    "\n",
    "Notice the negative sign in the equation for $\\mathbf{F}$. Considering our interpretation of the field $\\mathbf{s} = \\dfrac{dh}{dx}\\,\\hat\\imath + \\dfrac{dh}{dy}\\,\\hat\\jmath$, which of the following statements is true?\n",
    "\n",
    "(a) $\\mathbf{F}$ points in the direction of fastest *increase* of the potential energy $U$ <br>\n",
    "(b) $\\mathbf{F}$ points in the direction of fastest *decrease* of the potential energy $U$ <br>\n",
    "(c) Neither"
   ]
  },
  {
   "cell_type": "markdown",
   "id": "b1c60752",
   "metadata": {
    "deletable": false,
    "editable": false,
    "tags": []
   },
   "source": [
    "***\n",
    "**<span style=\"color:blue\">Answer 3.1:</span>**\n",
    "\n",
    "Replace the ... in the cell below with your answer.  Your answer should be a single character (a, b, or c) between single or double quotes.  \n",
    "*** Please do not change anything to the left of the equals sign. ***"
   ]
  },
  {
   "cell_type": "code",
   "execution_count": null,
   "id": "f40f53c4",
   "metadata": {
    "tags": []
   },
   "outputs": [],
   "source": [
    "a3_1 = ..."
   ]
  },
  {
   "cell_type": "code",
   "execution_count": null,
   "id": "329eb078",
   "metadata": {
    "deletable": false,
    "editable": false
   },
   "outputs": [],
   "source": [
    "PHYS121.graderCheck([a3_1], ['a3_1'], grader.check('Q3.1'))"
   ]
  },
  {
   "cell_type": "markdown",
   "id": "f4197925",
   "metadata": {
    "deletable": false,
    "editable": false,
    "tags": []
   },
   "source": [
    "***\n",
    "\n",
    "Similarly, electric fields $\\mathbf{E}$ can be calculated from the dertivatives of the electric potential $V$. In this Lab #3, you will be measuring a two-dimensional electric potential $V(x,y)$ -- a scalar field.  From the data you collect, you will find the electric field $\\mathbf{E}(x,y)$ via the equation\n",
    "<br>\n",
    "\n",
    "\\begin{align}\n",
    "\\mathbf{E}(x,y) = -\\left( \\frac{dV}{dx}\\,\\hat\\imath + \\frac{dV}{dy}\\,\\hat\\jmath \\right)\n",
    "\\end{align}"
   ]
  },
  {
   "cell_type": "markdown",
   "id": "6bb6acec",
   "metadata": {
    "deletable": false,
    "editable": false,
    "tags": []
   },
   "source": [
    "***\n",
    "\n",
    "Recall our formal definition now: a **field** is *any* quantity $\\varphi(x, y, z, t)$ that has a value associated with all points $(x,y,z)$ in space and moments $t$ in time.  If we were just looking at a \"snapshot\" of the field at a particular instant of time, we might consider only its values in space and write $\\varphi(x, y, z)$.  Moreover, if we're only considering values over a two-dimensional surface, we might describe our field by $\\varphi(x, y)$.  \n",
    "\n",
    "<!-- The abstraction of mathematics equips us with a concrete set of tools we can use for analysis and interpretation, regardless of what type of field we're dealing with.  Learning to work with these mathematical ideas takes some practice, but even if you find yourself lost in the abstraction you should never lose sight of the *physics* behind the mathematics.  Fields are a fundamentally physically motivated concept which find *many* uses in physics and beyond. -->"
   ]
  },
  {
   "cell_type": "markdown",
   "id": "53f68c56",
   "metadata": {
    "deletable": false,
    "editable": false,
    "tags": []
   },
   "source": [
    "# <div style=\"background-color:rgba(255, 204, 255, 0.5); text-align:center; vertical-align: middle; padding:40px 0; margin-top:30px\"><span style=\"color:rgba(102, 0, 204, 1);\">Part 4 - Feedback and Submission</span></div>"
   ]
  },
  {
   "cell_type": "markdown",
   "id": "1b3942da",
   "metadata": {
    "deletable": false,
    "editable": false,
    "tags": []
   },
   "source": [
    "<!-- BEGIN QUESTION -->\n",
    "\n",
    "**<span style=\"color:blue\">Question 4.1:</span>**  \n",
    "\n",
    "We welcome your feedback on the PHYS 121 pre-labs!  Please feel free to include any comments you have about this pre-lab in the cell below.  Your comments will be taken into consideration when revising/improving the PHYS 121 labs and pre-labs.  You can suggest improvements, point out anything that was unclear, comment on the strengths and weaknesses of the pre-lab, ...\n",
    "\n",
    "This question is optional and will have no impact on your pre-lab or lab grade."
   ]
  },
  {
   "cell_type": "markdown",
   "id": "51c149a3",
   "metadata": {
    "tags": []
   },
   "source": [
    "***\n",
    "**<span style=\"color:blue\">Answer 4.1:</span>**\n",
    "\n",
    "[//]: # (Please do not delete this comment or anything above it.  Anything below this comment can be deleted.)  \n",
    "\n",
    "Double click this cell and enter your text here.  When done, hit 'Shift' + 'Enter' to execute the cell.  You may delete this text when entering your answer. "
   ]
  },
  {
   "cell_type": "markdown",
   "id": "32497fda",
   "metadata": {
    "deletable": false,
    "editable": false,
    "tags": []
   },
   "source": [
    "<!-- END QUESTION -->\n",
    "\n",
    "---\n",
    "\n",
    "To double-check your work, the cell below will rerun all of the autograder tests."
   ]
  },
  {
   "cell_type": "code",
   "execution_count": null,
   "id": "10dadd0f",
   "metadata": {
    "deletable": false,
    "editable": false,
    "tags": []
   },
   "outputs": [],
   "source": [
    "grader.check_all()"
   ]
  },
  {
   "cell_type": "markdown",
   "id": "f981c549",
   "metadata": {
    "deletable": false,
    "editable": false,
    "tags": []
   },
   "source": [
    "***\n",
    "\n",
    "## Submission\n",
    "\n",
    "Make sure you have run all cells in your notebook in order before running the cell below, so that all images/graphs appear in the output. The cell below will generate a zip file for you to submit. **Please save before exporting!**\n",
    "\n",
    "Once you've completed this notebook:\n",
    "- Save your work.\n",
    "- Run 'grader.export()' to generate a .zip file containing all of the materials that you will submit.\n",
    "- Download the generated .zip file.\n",
    "- Upload the .zip file to the PHYS 121 Lab Canvas gradebook.\n",
    "- **Do NOT change the number of the .zip file.**\n",
    "- **Do NOT modify the contents of the .zip file.**\n",
    "\n",
    "Here is a <a href = \"https://raw.githubusercontent.com/UBC-Okanagan-Physics-Labs/PHYS-121-images/main/general/gifs/Submission.gif\">GIF</a> showing how these steps are completed.  Once your completed notebook has been uploaded to the Canvas gradebook, you're done!"
   ]
  },
  {
   "cell_type": "code",
   "execution_count": null,
   "id": "621dfe15",
   "metadata": {
    "deletable": false,
    "editable": false,
    "tags": []
   },
   "outputs": [],
   "source": [
    "# Save your notebook first, then run this cell (place your cursor in the cell and then hit Shift + Enter) to export \n",
    "# your submission.  Uploaded the .zip file that is generated to the gradebook of the Canvas shell for the PHYS 121 lab.\n",
    "grader.export(files = ['PHYS121_DataLogger.txt'])"
   ]
  },
  {
   "cell_type": "markdown",
   "id": "d769f5e4",
   "metadata": {
    "deletable": false,
    "editable": false,
    "tags": []
   },
   "source": [
    "# <div style=\"background-color:rgba(255, 204, 255, 0.5); text-align:center; vertical-align: middle; padding:40px 0; margin-top:30px\"><span style=\"color:rgba(102, 0, 204, 1);\">Part 5 - Playground (optional)</span></div>\n",
    "\n",
    "Feel free to add as many cells as you like below and use them as a playground for further independent investigations.  These cells won't be graded, so feel free to use them in any way that you like.  For example, you could compare Gaussian distributions with different standard deviations and/or means. "
   ]
  },
  {
   "cell_type": "code",
   "execution_count": null,
   "id": "2a30211c",
   "metadata": {},
   "outputs": [],
   "source": [
    "# Here's an empty code cell that you can use.\n"
   ]
  },
  {
   "cell_type": "code",
   "execution_count": null,
   "id": "a7dd03e7",
   "metadata": {},
   "outputs": [],
   "source": [
    "# Here's another empty code cell that you can use.\n"
   ]
  },
  {
   "cell_type": "code",
   "execution_count": null,
   "id": "b377e528",
   "metadata": {},
   "outputs": [],
   "source": [
    "# Here's yet another empty code cell that you can use.  \n",
    "# If you need more, you can add cells using the '+' icon in the menu bar at to the top of the screen.\n"
   ]
  },
  {
   "cell_type": "markdown",
   "id": "ed6ffd09",
   "metadata": {
    "deletable": false,
    "editable": false,
    "tags": []
   },
   "source": [
    "***  "
   ]
  },
  {
   "cell_type": "markdown",
   "id": "3a878d54",
   "metadata": {
    "deletable": false,
    "editable": false,
    "tags": []
   },
   "source": [
    "<img src=\"https://raw.githubusercontent.com/UBC-Okanagan-Physics-Labs/PHYS-121-images/main/general/images/ubc-logo-full.jpg\" width=\"500\"/>"
   ]
  },
  {
   "cell_type": "markdown",
   "id": "83680e28",
   "metadata": {},
   "source": [
    "Last update: January 30, 2024"
   ]
  }
 ],
 "metadata": {
  "kernelspec": {
   "display_name": "Python 3 (ipykernel)",
   "language": "python",
   "name": "python3"
  },
  "language_info": {
   "codemirror_mode": {
    "name": "ipython",
    "version": 3
   },
   "file_extension": ".py",
   "mimetype": "text/x-python",
   "name": "python",
   "nbconvert_exporter": "python",
   "pygments_lexer": "ipython3",
   "version": "3.10.6"
  },
  "otter": {
   "OK_FORMAT": true,
   "tests": {
    "Q1.1": {
     "name": "Q1.1",
     "points": null,
     "suites": [
      {
       "cases": [
        {
         "code": ">>> a1_1.lower() in [\"a\", \"b\", \"c\"]\nTrue",
         "failure_message": "Your answer must be a string of one of 'a', 'b', or 'c'.",
         "hidden": false,
         "locked": false,
         "points": 0
        }
       ],
       "scored": true,
       "setup": "",
       "teardown": "",
       "type": "doctest"
      }
     ]
    },
    "Q1.2": {
     "name": "Q1.2",
     "points": null,
     "suites": [
      {
       "cases": [
        {
         "code": ">>> a1_2.lower() in [\"a\", \"b\", \"c\"]\nTrue",
         "failure_message": "Your answer must be a string of one of 'a', 'b', or 'c'.",
         "hidden": false,
         "locked": false,
         "points": 0
        }
       ],
       "scored": true,
       "setup": "",
       "teardown": "",
       "type": "doctest"
      }
     ]
    },
    "Q1.3": {
     "name": "Q1.3",
     "points": null,
     "suites": [
      {
       "cases": [],
       "scored": true,
       "setup": "",
       "teardown": "",
       "type": "doctest"
      }
     ]
    },
    "Q1.4": {
     "name": "Q1.4",
     "points": null,
     "suites": [
      {
       "cases": [
        {
         "code": ">>> a1_4.lower() in [\"a\", \"b\", \"c\"]\nTrue",
         "failure_message": "Your answer must be a string of one of 'a', 'b', or 'c'.",
         "hidden": false,
         "locked": false,
         "points": 0
        }
       ],
       "scored": true,
       "setup": "",
       "teardown": "",
       "type": "doctest"
      }
     ]
    },
    "Q2.1": {
     "name": "Q2.1",
     "points": null,
     "suites": [
      {
       "cases": [
        {
         "code": ">>> a2_1.lower() in [\"a\", \"b\", \"c\"]\nTrue",
         "failure_message": "Your answer must be a string of one of 'a', 'b', or 'c'.",
         "hidden": false,
         "locked": false,
         "points": 0
        }
       ],
       "scored": true,
       "setup": "",
       "teardown": "",
       "type": "doctest"
      }
     ]
    },
    "Q2.2": {
     "name": "Q2.2",
     "points": null,
     "suites": [
      {
       "cases": [
        {
         "code": ">>> a2_2.lower() in [\"a\", \"b\", \"c\"]\nTrue",
         "failure_message": "Your answer must be a string of one of 'a', 'b', or 'c'.",
         "hidden": false,
         "locked": false,
         "points": 0
        }
       ],
       "scored": true,
       "setup": "",
       "teardown": "",
       "type": "doctest"
      }
     ]
    },
    "Q3.1": {
     "name": "Q3.1",
     "points": null,
     "suites": [
      {
       "cases": [
        {
         "code": ">>> a3_1.lower() in [\"a\", \"b\", \"c\"]\nTrue",
         "failure_message": "Your answer must be a string of one of 'a', 'b', or 'c'.",
         "hidden": false,
         "locked": false,
         "points": 0
        }
       ],
       "scored": true,
       "setup": "",
       "teardown": "",
       "type": "doctest"
      }
     ]
    }
   }
  },
  "vscode": {
   "interpreter": {
    "hash": "b870ad910a049d8ae52495743c7bc32c2e217ef524f139ca97c6947f4622129b"
   }
  }
 },
 "nbformat": 4,
 "nbformat_minor": 5
}
